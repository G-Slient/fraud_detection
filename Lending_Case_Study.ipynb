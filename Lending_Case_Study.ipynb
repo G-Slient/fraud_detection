{
  "nbformat": 4,
  "nbformat_minor": 0,
  "metadata": {
    "colab": {
      "name": "Lending Case Study.ipynb",
      "provenance": [],
      "collapsed_sections": []
    },
    "kernelspec": {
      "name": "python3",
      "display_name": "Python 3"
    },
    "language_info": {
      "name": "python"
    }
  },
  "cells": [
    {
      "cell_type": "markdown",
      "source": [
        "#**Import Libraries**"
      ],
      "metadata": {
        "id": "4jUQ4aBr9Spw"
      }
    },
    {
      "cell_type": "code",
      "execution_count": 272,
      "metadata": {
        "id": "nTeJXF3eVoyr"
      },
      "outputs": [],
      "source": [
        "import pandas as pd\n",
        "import matplotlib.pyplot as plt\n",
        "import warnings\n",
        "warnings.filterwarnings('ignore')\n",
        "pd.set_option(\"max_rows\", None)\n",
        "pd.set_option('display.max_columns', 200)"
      ]
    },
    {
      "cell_type": "markdown",
      "source": [
        "#**Reading the data**\n"
      ],
      "metadata": {
        "id": "8WPVm9GAgrQb"
      }
    },
    {
      "cell_type": "code",
      "source": [
        "df = pd.read_csv(\"loan.csv\")"
      ],
      "metadata": {
        "id": "sjPxxPOigpOi"
      },
      "execution_count": 273,
      "outputs": []
    },
    {
      "cell_type": "code",
      "source": [
        "df.head(3)"
      ],
      "metadata": {
        "colab": {
          "base_uri": "https://localhost:8080/",
          "height": 450
        },
        "id": "JsvZudhmXtgj",
        "outputId": "b22d06d0-aff2-4710-c840-a5741213e1ce"
      },
      "execution_count": 274,
      "outputs": [
        {
          "output_type": "execute_result",
          "data": {
            "text/plain": [
              "        id  member_id  loan_amnt  funded_amnt  funded_amnt_inv        term  \\\n",
              "0  1077501    1296599       5000         5000           4975.0   36 months   \n",
              "1  1077430    1314167       2500         2500           2500.0   60 months   \n",
              "2  1077175    1313524       2400         2400           2400.0   36 months   \n",
              "\n",
              "  int_rate  installment grade sub_grade emp_title emp_length home_ownership  \\\n",
              "0   10.65%       162.87     B        B2       NaN  10+ years           RENT   \n",
              "1   15.27%        59.83     C        C4     Ryder   < 1 year           RENT   \n",
              "2   15.96%        84.33     C        C5       NaN  10+ years           RENT   \n",
              "\n",
              "   annual_inc verification_status issue_d  loan_status pymnt_plan  \\\n",
              "0     24000.0            Verified  Dec-11   Fully Paid          n   \n",
              "1     30000.0     Source Verified  Dec-11  Charged Off          n   \n",
              "2     12252.0        Not Verified  Dec-11   Fully Paid          n   \n",
              "\n",
              "                                                 url  \\\n",
              "0  https://lendingclub.com/browse/loanDetail.acti...   \n",
              "1  https://lendingclub.com/browse/loanDetail.acti...   \n",
              "2  https://lendingclub.com/browse/loanDetail.acti...   \n",
              "\n",
              "                                                desc         purpose  \\\n",
              "0    Borrower added on 12/22/11 > I need to upgra...     credit_card   \n",
              "1    Borrower added on 12/22/11 > I plan to use t...             car   \n",
              "2                                                NaN  small_business   \n",
              "\n",
              "                  title zip_code addr_state    dti  delinq_2yrs  \\\n",
              "0              Computer    860xx         AZ  27.65            0   \n",
              "1                  bike    309xx         GA   1.00            0   \n",
              "2  real estate business    606xx         IL   8.72            0   \n",
              "\n",
              "  earliest_cr_line  inq_last_6mths  mths_since_last_delinq  \\\n",
              "0           Jan-85               1                     NaN   \n",
              "1           Apr-99               5                     NaN   \n",
              "2           Nov-01               2                     NaN   \n",
              "\n",
              "   mths_since_last_record  open_acc  pub_rec  revol_bal revol_util  total_acc  \\\n",
              "0                     NaN         3        0      13648     83.70%          9   \n",
              "1                     NaN         3        0       1687      9.40%          4   \n",
              "2                     NaN         2        0       2956     98.50%         10   \n",
              "\n",
              "  initial_list_status  out_prncp  out_prncp_inv  total_pymnt  total_pymnt_inv  \\\n",
              "0                   f        0.0            0.0  5863.155187          5833.84   \n",
              "1                   f        0.0            0.0  1008.710000          1008.71   \n",
              "2                   f        0.0            0.0  3005.666844          3005.67   \n",
              "\n",
              "   total_rec_prncp  total_rec_int  total_rec_late_fee  recoveries  \\\n",
              "0          5000.00         863.16                 0.0        0.00   \n",
              "1           456.46         435.17                 0.0      117.08   \n",
              "2          2400.00         605.67                 0.0        0.00   \n",
              "\n",
              "   collection_recovery_fee last_pymnt_d  last_pymnt_amnt next_pymnt_d  \\\n",
              "0                     0.00       Jan-15           171.62          NaN   \n",
              "1                     1.11       Apr-13           119.66          NaN   \n",
              "2                     0.00       Jun-14           649.91          NaN   \n",
              "\n",
              "  last_credit_pull_d  collections_12_mths_ex_med  mths_since_last_major_derog  \\\n",
              "0             May-16                         0.0                          NaN   \n",
              "1             Sep-13                         0.0                          NaN   \n",
              "2             May-16                         0.0                          NaN   \n",
              "\n",
              "   policy_code application_type  annual_inc_joint  dti_joint  \\\n",
              "0            1       INDIVIDUAL               NaN        NaN   \n",
              "1            1       INDIVIDUAL               NaN        NaN   \n",
              "2            1       INDIVIDUAL               NaN        NaN   \n",
              "\n",
              "   verification_status_joint  acc_now_delinq  tot_coll_amt  tot_cur_bal  \\\n",
              "0                        NaN               0           NaN          NaN   \n",
              "1                        NaN               0           NaN          NaN   \n",
              "2                        NaN               0           NaN          NaN   \n",
              "\n",
              "   open_acc_6m  open_il_6m  open_il_12m  open_il_24m  mths_since_rcnt_il  \\\n",
              "0          NaN         NaN          NaN          NaN                 NaN   \n",
              "1          NaN         NaN          NaN          NaN                 NaN   \n",
              "2          NaN         NaN          NaN          NaN                 NaN   \n",
              "\n",
              "   total_bal_il  il_util  open_rv_12m  open_rv_24m  max_bal_bc  all_util  \\\n",
              "0           NaN      NaN          NaN          NaN         NaN       NaN   \n",
              "1           NaN      NaN          NaN          NaN         NaN       NaN   \n",
              "2           NaN      NaN          NaN          NaN         NaN       NaN   \n",
              "\n",
              "   total_rev_hi_lim  inq_fi  total_cu_tl  inq_last_12m  acc_open_past_24mths  \\\n",
              "0               NaN     NaN          NaN           NaN                   NaN   \n",
              "1               NaN     NaN          NaN           NaN                   NaN   \n",
              "2               NaN     NaN          NaN           NaN                   NaN   \n",
              "\n",
              "   avg_cur_bal  bc_open_to_buy  bc_util  chargeoff_within_12_mths  \\\n",
              "0          NaN             NaN      NaN                       0.0   \n",
              "1          NaN             NaN      NaN                       0.0   \n",
              "2          NaN             NaN      NaN                       0.0   \n",
              "\n",
              "   delinq_amnt  mo_sin_old_il_acct  mo_sin_old_rev_tl_op  \\\n",
              "0            0                 NaN                   NaN   \n",
              "1            0                 NaN                   NaN   \n",
              "2            0                 NaN                   NaN   \n",
              "\n",
              "   mo_sin_rcnt_rev_tl_op  mo_sin_rcnt_tl  mort_acc  mths_since_recent_bc  \\\n",
              "0                    NaN             NaN       NaN                   NaN   \n",
              "1                    NaN             NaN       NaN                   NaN   \n",
              "2                    NaN             NaN       NaN                   NaN   \n",
              "\n",
              "   mths_since_recent_bc_dlq  mths_since_recent_inq  \\\n",
              "0                       NaN                    NaN   \n",
              "1                       NaN                    NaN   \n",
              "2                       NaN                    NaN   \n",
              "\n",
              "   mths_since_recent_revol_delinq  num_accts_ever_120_pd  num_actv_bc_tl  \\\n",
              "0                             NaN                    NaN             NaN   \n",
              "1                             NaN                    NaN             NaN   \n",
              "2                             NaN                    NaN             NaN   \n",
              "\n",
              "   num_actv_rev_tl  num_bc_sats  num_bc_tl  num_il_tl  num_op_rev_tl  \\\n",
              "0              NaN          NaN        NaN        NaN            NaN   \n",
              "1              NaN          NaN        NaN        NaN            NaN   \n",
              "2              NaN          NaN        NaN        NaN            NaN   \n",
              "\n",
              "   num_rev_accts  num_rev_tl_bal_gt_0  num_sats  num_tl_120dpd_2m  \\\n",
              "0            NaN                  NaN       NaN               NaN   \n",
              "1            NaN                  NaN       NaN               NaN   \n",
              "2            NaN                  NaN       NaN               NaN   \n",
              "\n",
              "   num_tl_30dpd  num_tl_90g_dpd_24m  num_tl_op_past_12m  pct_tl_nvr_dlq  \\\n",
              "0           NaN                 NaN                 NaN             NaN   \n",
              "1           NaN                 NaN                 NaN             NaN   \n",
              "2           NaN                 NaN                 NaN             NaN   \n",
              "\n",
              "   percent_bc_gt_75  pub_rec_bankruptcies  tax_liens  tot_hi_cred_lim  \\\n",
              "0               NaN                   0.0        0.0              NaN   \n",
              "1               NaN                   0.0        0.0              NaN   \n",
              "2               NaN                   0.0        0.0              NaN   \n",
              "\n",
              "   total_bal_ex_mort  total_bc_limit  total_il_high_credit_limit  \n",
              "0                NaN             NaN                         NaN  \n",
              "1                NaN             NaN                         NaN  \n",
              "2                NaN             NaN                         NaN  "
            ],
            "text/html": [
              "\n",
              "  <div id=\"df-8f9b644e-6265-4c75-bd54-472f413dea68\">\n",
              "    <div class=\"colab-df-container\">\n",
              "      <div>\n",
              "<style scoped>\n",
              "    .dataframe tbody tr th:only-of-type {\n",
              "        vertical-align: middle;\n",
              "    }\n",
              "\n",
              "    .dataframe tbody tr th {\n",
              "        vertical-align: top;\n",
              "    }\n",
              "\n",
              "    .dataframe thead th {\n",
              "        text-align: right;\n",
              "    }\n",
              "</style>\n",
              "<table border=\"1\" class=\"dataframe\">\n",
              "  <thead>\n",
              "    <tr style=\"text-align: right;\">\n",
              "      <th></th>\n",
              "      <th>id</th>\n",
              "      <th>member_id</th>\n",
              "      <th>loan_amnt</th>\n",
              "      <th>funded_amnt</th>\n",
              "      <th>funded_amnt_inv</th>\n",
              "      <th>term</th>\n",
              "      <th>int_rate</th>\n",
              "      <th>installment</th>\n",
              "      <th>grade</th>\n",
              "      <th>sub_grade</th>\n",
              "      <th>emp_title</th>\n",
              "      <th>emp_length</th>\n",
              "      <th>home_ownership</th>\n",
              "      <th>annual_inc</th>\n",
              "      <th>verification_status</th>\n",
              "      <th>issue_d</th>\n",
              "      <th>loan_status</th>\n",
              "      <th>pymnt_plan</th>\n",
              "      <th>url</th>\n",
              "      <th>desc</th>\n",
              "      <th>purpose</th>\n",
              "      <th>title</th>\n",
              "      <th>zip_code</th>\n",
              "      <th>addr_state</th>\n",
              "      <th>dti</th>\n",
              "      <th>delinq_2yrs</th>\n",
              "      <th>earliest_cr_line</th>\n",
              "      <th>inq_last_6mths</th>\n",
              "      <th>mths_since_last_delinq</th>\n",
              "      <th>mths_since_last_record</th>\n",
              "      <th>open_acc</th>\n",
              "      <th>pub_rec</th>\n",
              "      <th>revol_bal</th>\n",
              "      <th>revol_util</th>\n",
              "      <th>total_acc</th>\n",
              "      <th>initial_list_status</th>\n",
              "      <th>out_prncp</th>\n",
              "      <th>out_prncp_inv</th>\n",
              "      <th>total_pymnt</th>\n",
              "      <th>total_pymnt_inv</th>\n",
              "      <th>total_rec_prncp</th>\n",
              "      <th>total_rec_int</th>\n",
              "      <th>total_rec_late_fee</th>\n",
              "      <th>recoveries</th>\n",
              "      <th>collection_recovery_fee</th>\n",
              "      <th>last_pymnt_d</th>\n",
              "      <th>last_pymnt_amnt</th>\n",
              "      <th>next_pymnt_d</th>\n",
              "      <th>last_credit_pull_d</th>\n",
              "      <th>collections_12_mths_ex_med</th>\n",
              "      <th>mths_since_last_major_derog</th>\n",
              "      <th>policy_code</th>\n",
              "      <th>application_type</th>\n",
              "      <th>annual_inc_joint</th>\n",
              "      <th>dti_joint</th>\n",
              "      <th>verification_status_joint</th>\n",
              "      <th>acc_now_delinq</th>\n",
              "      <th>tot_coll_amt</th>\n",
              "      <th>tot_cur_bal</th>\n",
              "      <th>open_acc_6m</th>\n",
              "      <th>open_il_6m</th>\n",
              "      <th>open_il_12m</th>\n",
              "      <th>open_il_24m</th>\n",
              "      <th>mths_since_rcnt_il</th>\n",
              "      <th>total_bal_il</th>\n",
              "      <th>il_util</th>\n",
              "      <th>open_rv_12m</th>\n",
              "      <th>open_rv_24m</th>\n",
              "      <th>max_bal_bc</th>\n",
              "      <th>all_util</th>\n",
              "      <th>total_rev_hi_lim</th>\n",
              "      <th>inq_fi</th>\n",
              "      <th>total_cu_tl</th>\n",
              "      <th>inq_last_12m</th>\n",
              "      <th>acc_open_past_24mths</th>\n",
              "      <th>avg_cur_bal</th>\n",
              "      <th>bc_open_to_buy</th>\n",
              "      <th>bc_util</th>\n",
              "      <th>chargeoff_within_12_mths</th>\n",
              "      <th>delinq_amnt</th>\n",
              "      <th>mo_sin_old_il_acct</th>\n",
              "      <th>mo_sin_old_rev_tl_op</th>\n",
              "      <th>mo_sin_rcnt_rev_tl_op</th>\n",
              "      <th>mo_sin_rcnt_tl</th>\n",
              "      <th>mort_acc</th>\n",
              "      <th>mths_since_recent_bc</th>\n",
              "      <th>mths_since_recent_bc_dlq</th>\n",
              "      <th>mths_since_recent_inq</th>\n",
              "      <th>mths_since_recent_revol_delinq</th>\n",
              "      <th>num_accts_ever_120_pd</th>\n",
              "      <th>num_actv_bc_tl</th>\n",
              "      <th>num_actv_rev_tl</th>\n",
              "      <th>num_bc_sats</th>\n",
              "      <th>num_bc_tl</th>\n",
              "      <th>num_il_tl</th>\n",
              "      <th>num_op_rev_tl</th>\n",
              "      <th>num_rev_accts</th>\n",
              "      <th>num_rev_tl_bal_gt_0</th>\n",
              "      <th>num_sats</th>\n",
              "      <th>num_tl_120dpd_2m</th>\n",
              "      <th>num_tl_30dpd</th>\n",
              "      <th>num_tl_90g_dpd_24m</th>\n",
              "      <th>num_tl_op_past_12m</th>\n",
              "      <th>pct_tl_nvr_dlq</th>\n",
              "      <th>percent_bc_gt_75</th>\n",
              "      <th>pub_rec_bankruptcies</th>\n",
              "      <th>tax_liens</th>\n",
              "      <th>tot_hi_cred_lim</th>\n",
              "      <th>total_bal_ex_mort</th>\n",
              "      <th>total_bc_limit</th>\n",
              "      <th>total_il_high_credit_limit</th>\n",
              "    </tr>\n",
              "  </thead>\n",
              "  <tbody>\n",
              "    <tr>\n",
              "      <th>0</th>\n",
              "      <td>1077501</td>\n",
              "      <td>1296599</td>\n",
              "      <td>5000</td>\n",
              "      <td>5000</td>\n",
              "      <td>4975.0</td>\n",
              "      <td>36 months</td>\n",
              "      <td>10.65%</td>\n",
              "      <td>162.87</td>\n",
              "      <td>B</td>\n",
              "      <td>B2</td>\n",
              "      <td>NaN</td>\n",
              "      <td>10+ years</td>\n",
              "      <td>RENT</td>\n",
              "      <td>24000.0</td>\n",
              "      <td>Verified</td>\n",
              "      <td>Dec-11</td>\n",
              "      <td>Fully Paid</td>\n",
              "      <td>n</td>\n",
              "      <td>https://lendingclub.com/browse/loanDetail.acti...</td>\n",
              "      <td>Borrower added on 12/22/11 &gt; I need to upgra...</td>\n",
              "      <td>credit_card</td>\n",
              "      <td>Computer</td>\n",
              "      <td>860xx</td>\n",
              "      <td>AZ</td>\n",
              "      <td>27.65</td>\n",
              "      <td>0</td>\n",
              "      <td>Jan-85</td>\n",
              "      <td>1</td>\n",
              "      <td>NaN</td>\n",
              "      <td>NaN</td>\n",
              "      <td>3</td>\n",
              "      <td>0</td>\n",
              "      <td>13648</td>\n",
              "      <td>83.70%</td>\n",
              "      <td>9</td>\n",
              "      <td>f</td>\n",
              "      <td>0.0</td>\n",
              "      <td>0.0</td>\n",
              "      <td>5863.155187</td>\n",
              "      <td>5833.84</td>\n",
              "      <td>5000.00</td>\n",
              "      <td>863.16</td>\n",
              "      <td>0.0</td>\n",
              "      <td>0.00</td>\n",
              "      <td>0.00</td>\n",
              "      <td>Jan-15</td>\n",
              "      <td>171.62</td>\n",
              "      <td>NaN</td>\n",
              "      <td>May-16</td>\n",
              "      <td>0.0</td>\n",
              "      <td>NaN</td>\n",
              "      <td>1</td>\n",
              "      <td>INDIVIDUAL</td>\n",
              "      <td>NaN</td>\n",
              "      <td>NaN</td>\n",
              "      <td>NaN</td>\n",
              "      <td>0</td>\n",
              "      <td>NaN</td>\n",
              "      <td>NaN</td>\n",
              "      <td>NaN</td>\n",
              "      <td>NaN</td>\n",
              "      <td>NaN</td>\n",
              "      <td>NaN</td>\n",
              "      <td>NaN</td>\n",
              "      <td>NaN</td>\n",
              "      <td>NaN</td>\n",
              "      <td>NaN</td>\n",
              "      <td>NaN</td>\n",
              "      <td>NaN</td>\n",
              "      <td>NaN</td>\n",
              "      <td>NaN</td>\n",
              "      <td>NaN</td>\n",
              "      <td>NaN</td>\n",
              "      <td>NaN</td>\n",
              "      <td>NaN</td>\n",
              "      <td>NaN</td>\n",
              "      <td>NaN</td>\n",
              "      <td>NaN</td>\n",
              "      <td>0.0</td>\n",
              "      <td>0</td>\n",
              "      <td>NaN</td>\n",
              "      <td>NaN</td>\n",
              "      <td>NaN</td>\n",
              "      <td>NaN</td>\n",
              "      <td>NaN</td>\n",
              "      <td>NaN</td>\n",
              "      <td>NaN</td>\n",
              "      <td>NaN</td>\n",
              "      <td>NaN</td>\n",
              "      <td>NaN</td>\n",
              "      <td>NaN</td>\n",
              "      <td>NaN</td>\n",
              "      <td>NaN</td>\n",
              "      <td>NaN</td>\n",
              "      <td>NaN</td>\n",
              "      <td>NaN</td>\n",
              "      <td>NaN</td>\n",
              "      <td>NaN</td>\n",
              "      <td>NaN</td>\n",
              "      <td>NaN</td>\n",
              "      <td>NaN</td>\n",
              "      <td>NaN</td>\n",
              "      <td>NaN</td>\n",
              "      <td>NaN</td>\n",
              "      <td>NaN</td>\n",
              "      <td>0.0</td>\n",
              "      <td>0.0</td>\n",
              "      <td>NaN</td>\n",
              "      <td>NaN</td>\n",
              "      <td>NaN</td>\n",
              "      <td>NaN</td>\n",
              "    </tr>\n",
              "    <tr>\n",
              "      <th>1</th>\n",
              "      <td>1077430</td>\n",
              "      <td>1314167</td>\n",
              "      <td>2500</td>\n",
              "      <td>2500</td>\n",
              "      <td>2500.0</td>\n",
              "      <td>60 months</td>\n",
              "      <td>15.27%</td>\n",
              "      <td>59.83</td>\n",
              "      <td>C</td>\n",
              "      <td>C4</td>\n",
              "      <td>Ryder</td>\n",
              "      <td>&lt; 1 year</td>\n",
              "      <td>RENT</td>\n",
              "      <td>30000.0</td>\n",
              "      <td>Source Verified</td>\n",
              "      <td>Dec-11</td>\n",
              "      <td>Charged Off</td>\n",
              "      <td>n</td>\n",
              "      <td>https://lendingclub.com/browse/loanDetail.acti...</td>\n",
              "      <td>Borrower added on 12/22/11 &gt; I plan to use t...</td>\n",
              "      <td>car</td>\n",
              "      <td>bike</td>\n",
              "      <td>309xx</td>\n",
              "      <td>GA</td>\n",
              "      <td>1.00</td>\n",
              "      <td>0</td>\n",
              "      <td>Apr-99</td>\n",
              "      <td>5</td>\n",
              "      <td>NaN</td>\n",
              "      <td>NaN</td>\n",
              "      <td>3</td>\n",
              "      <td>0</td>\n",
              "      <td>1687</td>\n",
              "      <td>9.40%</td>\n",
              "      <td>4</td>\n",
              "      <td>f</td>\n",
              "      <td>0.0</td>\n",
              "      <td>0.0</td>\n",
              "      <td>1008.710000</td>\n",
              "      <td>1008.71</td>\n",
              "      <td>456.46</td>\n",
              "      <td>435.17</td>\n",
              "      <td>0.0</td>\n",
              "      <td>117.08</td>\n",
              "      <td>1.11</td>\n",
              "      <td>Apr-13</td>\n",
              "      <td>119.66</td>\n",
              "      <td>NaN</td>\n",
              "      <td>Sep-13</td>\n",
              "      <td>0.0</td>\n",
              "      <td>NaN</td>\n",
              "      <td>1</td>\n",
              "      <td>INDIVIDUAL</td>\n",
              "      <td>NaN</td>\n",
              "      <td>NaN</td>\n",
              "      <td>NaN</td>\n",
              "      <td>0</td>\n",
              "      <td>NaN</td>\n",
              "      <td>NaN</td>\n",
              "      <td>NaN</td>\n",
              "      <td>NaN</td>\n",
              "      <td>NaN</td>\n",
              "      <td>NaN</td>\n",
              "      <td>NaN</td>\n",
              "      <td>NaN</td>\n",
              "      <td>NaN</td>\n",
              "      <td>NaN</td>\n",
              "      <td>NaN</td>\n",
              "      <td>NaN</td>\n",
              "      <td>NaN</td>\n",
              "      <td>NaN</td>\n",
              "      <td>NaN</td>\n",
              "      <td>NaN</td>\n",
              "      <td>NaN</td>\n",
              "      <td>NaN</td>\n",
              "      <td>NaN</td>\n",
              "      <td>NaN</td>\n",
              "      <td>NaN</td>\n",
              "      <td>0.0</td>\n",
              "      <td>0</td>\n",
              "      <td>NaN</td>\n",
              "      <td>NaN</td>\n",
              "      <td>NaN</td>\n",
              "      <td>NaN</td>\n",
              "      <td>NaN</td>\n",
              "      <td>NaN</td>\n",
              "      <td>NaN</td>\n",
              "      <td>NaN</td>\n",
              "      <td>NaN</td>\n",
              "      <td>NaN</td>\n",
              "      <td>NaN</td>\n",
              "      <td>NaN</td>\n",
              "      <td>NaN</td>\n",
              "      <td>NaN</td>\n",
              "      <td>NaN</td>\n",
              "      <td>NaN</td>\n",
              "      <td>NaN</td>\n",
              "      <td>NaN</td>\n",
              "      <td>NaN</td>\n",
              "      <td>NaN</td>\n",
              "      <td>NaN</td>\n",
              "      <td>NaN</td>\n",
              "      <td>NaN</td>\n",
              "      <td>NaN</td>\n",
              "      <td>NaN</td>\n",
              "      <td>0.0</td>\n",
              "      <td>0.0</td>\n",
              "      <td>NaN</td>\n",
              "      <td>NaN</td>\n",
              "      <td>NaN</td>\n",
              "      <td>NaN</td>\n",
              "    </tr>\n",
              "    <tr>\n",
              "      <th>2</th>\n",
              "      <td>1077175</td>\n",
              "      <td>1313524</td>\n",
              "      <td>2400</td>\n",
              "      <td>2400</td>\n",
              "      <td>2400.0</td>\n",
              "      <td>36 months</td>\n",
              "      <td>15.96%</td>\n",
              "      <td>84.33</td>\n",
              "      <td>C</td>\n",
              "      <td>C5</td>\n",
              "      <td>NaN</td>\n",
              "      <td>10+ years</td>\n",
              "      <td>RENT</td>\n",
              "      <td>12252.0</td>\n",
              "      <td>Not Verified</td>\n",
              "      <td>Dec-11</td>\n",
              "      <td>Fully Paid</td>\n",
              "      <td>n</td>\n",
              "      <td>https://lendingclub.com/browse/loanDetail.acti...</td>\n",
              "      <td>NaN</td>\n",
              "      <td>small_business</td>\n",
              "      <td>real estate business</td>\n",
              "      <td>606xx</td>\n",
              "      <td>IL</td>\n",
              "      <td>8.72</td>\n",
              "      <td>0</td>\n",
              "      <td>Nov-01</td>\n",
              "      <td>2</td>\n",
              "      <td>NaN</td>\n",
              "      <td>NaN</td>\n",
              "      <td>2</td>\n",
              "      <td>0</td>\n",
              "      <td>2956</td>\n",
              "      <td>98.50%</td>\n",
              "      <td>10</td>\n",
              "      <td>f</td>\n",
              "      <td>0.0</td>\n",
              "      <td>0.0</td>\n",
              "      <td>3005.666844</td>\n",
              "      <td>3005.67</td>\n",
              "      <td>2400.00</td>\n",
              "      <td>605.67</td>\n",
              "      <td>0.0</td>\n",
              "      <td>0.00</td>\n",
              "      <td>0.00</td>\n",
              "      <td>Jun-14</td>\n",
              "      <td>649.91</td>\n",
              "      <td>NaN</td>\n",
              "      <td>May-16</td>\n",
              "      <td>0.0</td>\n",
              "      <td>NaN</td>\n",
              "      <td>1</td>\n",
              "      <td>INDIVIDUAL</td>\n",
              "      <td>NaN</td>\n",
              "      <td>NaN</td>\n",
              "      <td>NaN</td>\n",
              "      <td>0</td>\n",
              "      <td>NaN</td>\n",
              "      <td>NaN</td>\n",
              "      <td>NaN</td>\n",
              "      <td>NaN</td>\n",
              "      <td>NaN</td>\n",
              "      <td>NaN</td>\n",
              "      <td>NaN</td>\n",
              "      <td>NaN</td>\n",
              "      <td>NaN</td>\n",
              "      <td>NaN</td>\n",
              "      <td>NaN</td>\n",
              "      <td>NaN</td>\n",
              "      <td>NaN</td>\n",
              "      <td>NaN</td>\n",
              "      <td>NaN</td>\n",
              "      <td>NaN</td>\n",
              "      <td>NaN</td>\n",
              "      <td>NaN</td>\n",
              "      <td>NaN</td>\n",
              "      <td>NaN</td>\n",
              "      <td>NaN</td>\n",
              "      <td>0.0</td>\n",
              "      <td>0</td>\n",
              "      <td>NaN</td>\n",
              "      <td>NaN</td>\n",
              "      <td>NaN</td>\n",
              "      <td>NaN</td>\n",
              "      <td>NaN</td>\n",
              "      <td>NaN</td>\n",
              "      <td>NaN</td>\n",
              "      <td>NaN</td>\n",
              "      <td>NaN</td>\n",
              "      <td>NaN</td>\n",
              "      <td>NaN</td>\n",
              "      <td>NaN</td>\n",
              "      <td>NaN</td>\n",
              "      <td>NaN</td>\n",
              "      <td>NaN</td>\n",
              "      <td>NaN</td>\n",
              "      <td>NaN</td>\n",
              "      <td>NaN</td>\n",
              "      <td>NaN</td>\n",
              "      <td>NaN</td>\n",
              "      <td>NaN</td>\n",
              "      <td>NaN</td>\n",
              "      <td>NaN</td>\n",
              "      <td>NaN</td>\n",
              "      <td>NaN</td>\n",
              "      <td>0.0</td>\n",
              "      <td>0.0</td>\n",
              "      <td>NaN</td>\n",
              "      <td>NaN</td>\n",
              "      <td>NaN</td>\n",
              "      <td>NaN</td>\n",
              "    </tr>\n",
              "  </tbody>\n",
              "</table>\n",
              "</div>\n",
              "      <button class=\"colab-df-convert\" onclick=\"convertToInteractive('df-8f9b644e-6265-4c75-bd54-472f413dea68')\"\n",
              "              title=\"Convert this dataframe to an interactive table.\"\n",
              "              style=\"display:none;\">\n",
              "        \n",
              "  <svg xmlns=\"http://www.w3.org/2000/svg\" height=\"24px\"viewBox=\"0 0 24 24\"\n",
              "       width=\"24px\">\n",
              "    <path d=\"M0 0h24v24H0V0z\" fill=\"none\"/>\n",
              "    <path d=\"M18.56 5.44l.94 2.06.94-2.06 2.06-.94-2.06-.94-.94-2.06-.94 2.06-2.06.94zm-11 1L8.5 8.5l.94-2.06 2.06-.94-2.06-.94L8.5 2.5l-.94 2.06-2.06.94zm10 10l.94 2.06.94-2.06 2.06-.94-2.06-.94-.94-2.06-.94 2.06-2.06.94z\"/><path d=\"M17.41 7.96l-1.37-1.37c-.4-.4-.92-.59-1.43-.59-.52 0-1.04.2-1.43.59L10.3 9.45l-7.72 7.72c-.78.78-.78 2.05 0 2.83L4 21.41c.39.39.9.59 1.41.59.51 0 1.02-.2 1.41-.59l7.78-7.78 2.81-2.81c.8-.78.8-2.07 0-2.86zM5.41 20L4 18.59l7.72-7.72 1.47 1.35L5.41 20z\"/>\n",
              "  </svg>\n",
              "      </button>\n",
              "      \n",
              "  <style>\n",
              "    .colab-df-container {\n",
              "      display:flex;\n",
              "      flex-wrap:wrap;\n",
              "      gap: 12px;\n",
              "    }\n",
              "\n",
              "    .colab-df-convert {\n",
              "      background-color: #E8F0FE;\n",
              "      border: none;\n",
              "      border-radius: 50%;\n",
              "      cursor: pointer;\n",
              "      display: none;\n",
              "      fill: #1967D2;\n",
              "      height: 32px;\n",
              "      padding: 0 0 0 0;\n",
              "      width: 32px;\n",
              "    }\n",
              "\n",
              "    .colab-df-convert:hover {\n",
              "      background-color: #E2EBFA;\n",
              "      box-shadow: 0px 1px 2px rgba(60, 64, 67, 0.3), 0px 1px 3px 1px rgba(60, 64, 67, 0.15);\n",
              "      fill: #174EA6;\n",
              "    }\n",
              "\n",
              "    [theme=dark] .colab-df-convert {\n",
              "      background-color: #3B4455;\n",
              "      fill: #D2E3FC;\n",
              "    }\n",
              "\n",
              "    [theme=dark] .colab-df-convert:hover {\n",
              "      background-color: #434B5C;\n",
              "      box-shadow: 0px 1px 3px 1px rgba(0, 0, 0, 0.15);\n",
              "      filter: drop-shadow(0px 1px 2px rgba(0, 0, 0, 0.3));\n",
              "      fill: #FFFFFF;\n",
              "    }\n",
              "  </style>\n",
              "\n",
              "      <script>\n",
              "        const buttonEl =\n",
              "          document.querySelector('#df-8f9b644e-6265-4c75-bd54-472f413dea68 button.colab-df-convert');\n",
              "        buttonEl.style.display =\n",
              "          google.colab.kernel.accessAllowed ? 'block' : 'none';\n",
              "\n",
              "        async function convertToInteractive(key) {\n",
              "          const element = document.querySelector('#df-8f9b644e-6265-4c75-bd54-472f413dea68');\n",
              "          const dataTable =\n",
              "            await google.colab.kernel.invokeFunction('convertToInteractive',\n",
              "                                                     [key], {});\n",
              "          if (!dataTable) return;\n",
              "\n",
              "          const docLinkHtml = 'Like what you see? Visit the ' +\n",
              "            '<a target=\"_blank\" href=https://colab.research.google.com/notebooks/data_table.ipynb>data table notebook</a>'\n",
              "            + ' to learn more about interactive tables.';\n",
              "          element.innerHTML = '';\n",
              "          dataTable['output_type'] = 'display_data';\n",
              "          await google.colab.output.renderOutput(dataTable, element);\n",
              "          const docLink = document.createElement('div');\n",
              "          docLink.innerHTML = docLinkHtml;\n",
              "          element.appendChild(docLink);\n",
              "        }\n",
              "      </script>\n",
              "    </div>\n",
              "  </div>\n",
              "  "
            ]
          },
          "metadata": {},
          "execution_count": 274
        }
      ]
    },
    {
      "cell_type": "code",
      "source": [
        "df.shape"
      ],
      "metadata": {
        "colab": {
          "base_uri": "https://localhost:8080/"
        },
        "id": "8JOmYfKOYDh_",
        "outputId": "2bba9b58-250f-453c-a77e-d28c03ae0e6c"
      },
      "execution_count": 275,
      "outputs": [
        {
          "output_type": "execute_result",
          "data": {
            "text/plain": [
              "(39717, 111)"
            ]
          },
          "metadata": {},
          "execution_count": 275
        }
      ]
    },
    {
      "cell_type": "code",
      "source": [
        "pd.set_option('display.max_info_columns', 200)\n",
        "df.info()"
      ],
      "metadata": {
        "colab": {
          "base_uri": "https://localhost:8080/"
        },
        "id": "ZgzUbLpOYuGf",
        "outputId": "5da1e292-89f4-40e7-80fa-a2ca1a607a60"
      },
      "execution_count": 276,
      "outputs": [
        {
          "output_type": "stream",
          "name": "stdout",
          "text": [
            "<class 'pandas.core.frame.DataFrame'>\n",
            "RangeIndex: 39717 entries, 0 to 39716\n",
            "Data columns (total 111 columns):\n",
            " #    Column                          Non-Null Count  Dtype  \n",
            "---   ------                          --------------  -----  \n",
            " 0    id                              39717 non-null  int64  \n",
            " 1    member_id                       39717 non-null  int64  \n",
            " 2    loan_amnt                       39717 non-null  int64  \n",
            " 3    funded_amnt                     39717 non-null  int64  \n",
            " 4    funded_amnt_inv                 39717 non-null  float64\n",
            " 5    term                            39717 non-null  object \n",
            " 6    int_rate                        39717 non-null  object \n",
            " 7    installment                     39717 non-null  float64\n",
            " 8    grade                           39717 non-null  object \n",
            " 9    sub_grade                       39717 non-null  object \n",
            " 10   emp_title                       37258 non-null  object \n",
            " 11   emp_length                      38642 non-null  object \n",
            " 12   home_ownership                  39717 non-null  object \n",
            " 13   annual_inc                      39717 non-null  float64\n",
            " 14   verification_status             39717 non-null  object \n",
            " 15   issue_d                         39717 non-null  object \n",
            " 16   loan_status                     39717 non-null  object \n",
            " 17   pymnt_plan                      39717 non-null  object \n",
            " 18   url                             39717 non-null  object \n",
            " 19   desc                            26777 non-null  object \n",
            " 20   purpose                         39717 non-null  object \n",
            " 21   title                           39706 non-null  object \n",
            " 22   zip_code                        39717 non-null  object \n",
            " 23   addr_state                      39717 non-null  object \n",
            " 24   dti                             39717 non-null  float64\n",
            " 25   delinq_2yrs                     39717 non-null  int64  \n",
            " 26   earliest_cr_line                39717 non-null  object \n",
            " 27   inq_last_6mths                  39717 non-null  int64  \n",
            " 28   mths_since_last_delinq          14035 non-null  float64\n",
            " 29   mths_since_last_record          2786 non-null   float64\n",
            " 30   open_acc                        39717 non-null  int64  \n",
            " 31   pub_rec                         39717 non-null  int64  \n",
            " 32   revol_bal                       39717 non-null  int64  \n",
            " 33   revol_util                      39667 non-null  object \n",
            " 34   total_acc                       39717 non-null  int64  \n",
            " 35   initial_list_status             39717 non-null  object \n",
            " 36   out_prncp                       39717 non-null  float64\n",
            " 37   out_prncp_inv                   39717 non-null  float64\n",
            " 38   total_pymnt                     39717 non-null  float64\n",
            " 39   total_pymnt_inv                 39717 non-null  float64\n",
            " 40   total_rec_prncp                 39717 non-null  float64\n",
            " 41   total_rec_int                   39717 non-null  float64\n",
            " 42   total_rec_late_fee              39717 non-null  float64\n",
            " 43   recoveries                      39717 non-null  float64\n",
            " 44   collection_recovery_fee         39717 non-null  float64\n",
            " 45   last_pymnt_d                    39646 non-null  object \n",
            " 46   last_pymnt_amnt                 39717 non-null  float64\n",
            " 47   next_pymnt_d                    1140 non-null   object \n",
            " 48   last_credit_pull_d              39715 non-null  object \n",
            " 49   collections_12_mths_ex_med      39661 non-null  float64\n",
            " 50   mths_since_last_major_derog     0 non-null      float64\n",
            " 51   policy_code                     39717 non-null  int64  \n",
            " 52   application_type                39717 non-null  object \n",
            " 53   annual_inc_joint                0 non-null      float64\n",
            " 54   dti_joint                       0 non-null      float64\n",
            " 55   verification_status_joint       0 non-null      float64\n",
            " 56   acc_now_delinq                  39717 non-null  int64  \n",
            " 57   tot_coll_amt                    0 non-null      float64\n",
            " 58   tot_cur_bal                     0 non-null      float64\n",
            " 59   open_acc_6m                     0 non-null      float64\n",
            " 60   open_il_6m                      0 non-null      float64\n",
            " 61   open_il_12m                     0 non-null      float64\n",
            " 62   open_il_24m                     0 non-null      float64\n",
            " 63   mths_since_rcnt_il              0 non-null      float64\n",
            " 64   total_bal_il                    0 non-null      float64\n",
            " 65   il_util                         0 non-null      float64\n",
            " 66   open_rv_12m                     0 non-null      float64\n",
            " 67   open_rv_24m                     0 non-null      float64\n",
            " 68   max_bal_bc                      0 non-null      float64\n",
            " 69   all_util                        0 non-null      float64\n",
            " 70   total_rev_hi_lim                0 non-null      float64\n",
            " 71   inq_fi                          0 non-null      float64\n",
            " 72   total_cu_tl                     0 non-null      float64\n",
            " 73   inq_last_12m                    0 non-null      float64\n",
            " 74   acc_open_past_24mths            0 non-null      float64\n",
            " 75   avg_cur_bal                     0 non-null      float64\n",
            " 76   bc_open_to_buy                  0 non-null      float64\n",
            " 77   bc_util                         0 non-null      float64\n",
            " 78   chargeoff_within_12_mths        39661 non-null  float64\n",
            " 79   delinq_amnt                     39717 non-null  int64  \n",
            " 80   mo_sin_old_il_acct              0 non-null      float64\n",
            " 81   mo_sin_old_rev_tl_op            0 non-null      float64\n",
            " 82   mo_sin_rcnt_rev_tl_op           0 non-null      float64\n",
            " 83   mo_sin_rcnt_tl                  0 non-null      float64\n",
            " 84   mort_acc                        0 non-null      float64\n",
            " 85   mths_since_recent_bc            0 non-null      float64\n",
            " 86   mths_since_recent_bc_dlq        0 non-null      float64\n",
            " 87   mths_since_recent_inq           0 non-null      float64\n",
            " 88   mths_since_recent_revol_delinq  0 non-null      float64\n",
            " 89   num_accts_ever_120_pd           0 non-null      float64\n",
            " 90   num_actv_bc_tl                  0 non-null      float64\n",
            " 91   num_actv_rev_tl                 0 non-null      float64\n",
            " 92   num_bc_sats                     0 non-null      float64\n",
            " 93   num_bc_tl                       0 non-null      float64\n",
            " 94   num_il_tl                       0 non-null      float64\n",
            " 95   num_op_rev_tl                   0 non-null      float64\n",
            " 96   num_rev_accts                   0 non-null      float64\n",
            " 97   num_rev_tl_bal_gt_0             0 non-null      float64\n",
            " 98   num_sats                        0 non-null      float64\n",
            " 99   num_tl_120dpd_2m                0 non-null      float64\n",
            " 100  num_tl_30dpd                    0 non-null      float64\n",
            " 101  num_tl_90g_dpd_24m              0 non-null      float64\n",
            " 102  num_tl_op_past_12m              0 non-null      float64\n",
            " 103  pct_tl_nvr_dlq                  0 non-null      float64\n",
            " 104  percent_bc_gt_75                0 non-null      float64\n",
            " 105  pub_rec_bankruptcies            39020 non-null  float64\n",
            " 106  tax_liens                       39678 non-null  float64\n",
            " 107  tot_hi_cred_lim                 0 non-null      float64\n",
            " 108  total_bal_ex_mort               0 non-null      float64\n",
            " 109  total_bc_limit                  0 non-null      float64\n",
            " 110  total_il_high_credit_limit      0 non-null      float64\n",
            "dtypes: float64(74), int64(13), object(24)\n",
            "memory usage: 33.6+ MB\n"
          ]
        }
      ]
    },
    {
      "cell_type": "markdown",
      "source": [
        "#**Data Cleaning**"
      ],
      "metadata": {
        "id": "zuZuFmuR-A5U"
      }
    },
    {
      "cell_type": "markdown",
      "source": [
        "\n",
        "### **Inspect the null values**"
      ],
      "metadata": {
        "id": "AhNObhWP-V5d"
      }
    },
    {
      "cell_type": "code",
      "source": [
        "null_per = (df.isnull().sum()/len(df.index))*100\n",
        "null_per[null_per>=50]"
      ],
      "metadata": {
        "colab": {
          "base_uri": "https://localhost:8080/"
        },
        "id": "ukdUfezvZosK",
        "outputId": "22a30d36-cba4-4705-dc07-db60e5cdaf9a"
      },
      "execution_count": 277,
      "outputs": [
        {
          "output_type": "execute_result",
          "data": {
            "text/plain": [
              "mths_since_last_delinq             64.662487\n",
              "mths_since_last_record             92.985372\n",
              "next_pymnt_d                       97.129693\n",
              "mths_since_last_major_derog       100.000000\n",
              "annual_inc_joint                  100.000000\n",
              "dti_joint                         100.000000\n",
              "verification_status_joint         100.000000\n",
              "tot_coll_amt                      100.000000\n",
              "tot_cur_bal                       100.000000\n",
              "open_acc_6m                       100.000000\n",
              "open_il_6m                        100.000000\n",
              "open_il_12m                       100.000000\n",
              "open_il_24m                       100.000000\n",
              "mths_since_rcnt_il                100.000000\n",
              "total_bal_il                      100.000000\n",
              "il_util                           100.000000\n",
              "open_rv_12m                       100.000000\n",
              "open_rv_24m                       100.000000\n",
              "max_bal_bc                        100.000000\n",
              "all_util                          100.000000\n",
              "total_rev_hi_lim                  100.000000\n",
              "inq_fi                            100.000000\n",
              "total_cu_tl                       100.000000\n",
              "inq_last_12m                      100.000000\n",
              "acc_open_past_24mths              100.000000\n",
              "avg_cur_bal                       100.000000\n",
              "bc_open_to_buy                    100.000000\n",
              "bc_util                           100.000000\n",
              "mo_sin_old_il_acct                100.000000\n",
              "mo_sin_old_rev_tl_op              100.000000\n",
              "mo_sin_rcnt_rev_tl_op             100.000000\n",
              "mo_sin_rcnt_tl                    100.000000\n",
              "mort_acc                          100.000000\n",
              "mths_since_recent_bc              100.000000\n",
              "mths_since_recent_bc_dlq          100.000000\n",
              "mths_since_recent_inq             100.000000\n",
              "mths_since_recent_revol_delinq    100.000000\n",
              "num_accts_ever_120_pd             100.000000\n",
              "num_actv_bc_tl                    100.000000\n",
              "num_actv_rev_tl                   100.000000\n",
              "num_bc_sats                       100.000000\n",
              "num_bc_tl                         100.000000\n",
              "num_il_tl                         100.000000\n",
              "num_op_rev_tl                     100.000000\n",
              "num_rev_accts                     100.000000\n",
              "num_rev_tl_bal_gt_0               100.000000\n",
              "num_sats                          100.000000\n",
              "num_tl_120dpd_2m                  100.000000\n",
              "num_tl_30dpd                      100.000000\n",
              "num_tl_90g_dpd_24m                100.000000\n",
              "num_tl_op_past_12m                100.000000\n",
              "pct_tl_nvr_dlq                    100.000000\n",
              "percent_bc_gt_75                  100.000000\n",
              "tot_hi_cred_lim                   100.000000\n",
              "total_bal_ex_mort                 100.000000\n",
              "total_bc_limit                    100.000000\n",
              "total_il_high_credit_limit        100.000000\n",
              "dtype: float64"
            ]
          },
          "metadata": {},
          "execution_count": 277
        }
      ]
    },
    {
      "cell_type": "markdown",
      "source": [
        "Many features have 100% null values; These features mostly regard for candidates' bank account(s) history like number of accounts opened since x months for different types of accounts.\n"
      ],
      "metadata": {
        "id": "GeDBt-GA_J8R"
      }
    },
    {
      "cell_type": "code",
      "source": [
        "#dropping columns whose missing values is 50% or higher\n",
        "\n",
        "df.drop(list(null_per[null_per>=50].index),axis=1,inplace=True)\n",
        "print(\"Number of features in dataframe after dropping features with high frequency null values: \", df.columns.shape[0])"
      ],
      "metadata": {
        "colab": {
          "base_uri": "https://localhost:8080/"
        },
        "id": "UGu9fRw0cFT8",
        "outputId": "4075a3c5-464e-4b9a-cf11-4a9b5cae6a26"
      },
      "execution_count": 278,
      "outputs": [
        {
          "output_type": "stream",
          "name": "stdout",
          "text": [
            "Number of features in dataframe after dropping features with high frequency null values:  54\n"
          ]
        }
      ]
    },
    {
      "cell_type": "markdown",
      "source": [
        "### **Handling unnecessary rows/columns**\n"
      ],
      "metadata": {
        "id": "w_PsvJyznpJH"
      }
    },
    {
      "cell_type": "code",
      "source": [
        "#dropping irrelevant columns\n",
        "df.drop(['url'],axis=1,inplace=True)\n",
        "df.columns.shape"
      ],
      "metadata": {
        "colab": {
          "base_uri": "https://localhost:8080/"
        },
        "id": "fc4MEjuLHhxz",
        "outputId": "6c6b77fb-c23f-409b-bbf6-26e83294a3c0"
      },
      "execution_count": 279,
      "outputs": [
        {
          "output_type": "execute_result",
          "data": {
            "text/plain": [
              "(53,)"
            ]
          },
          "metadata": {},
          "execution_count": 279
        }
      ]
    },
    {
      "cell_type": "code",
      "source": [
        "for col in df.columns:\n",
        "  print(col,df[col].value_counts(dropna=True).count())"
      ],
      "metadata": {
        "colab": {
          "base_uri": "https://localhost:8080/"
        },
        "id": "cs2cyymQdyR8",
        "outputId": "3312eeda-f213-494f-c679-49d4464004a4"
      },
      "execution_count": 280,
      "outputs": [
        {
          "output_type": "stream",
          "name": "stdout",
          "text": [
            "id 39717\n",
            "member_id 39717\n",
            "loan_amnt 885\n",
            "funded_amnt 1041\n",
            "funded_amnt_inv 8205\n",
            "term 2\n",
            "int_rate 371\n",
            "installment 15383\n",
            "grade 7\n",
            "sub_grade 35\n",
            "emp_title 28820\n",
            "emp_length 11\n",
            "home_ownership 5\n",
            "annual_inc 5318\n",
            "verification_status 3\n",
            "issue_d 55\n",
            "loan_status 3\n",
            "pymnt_plan 1\n",
            "desc 26527\n",
            "purpose 14\n",
            "title 19615\n",
            "zip_code 823\n",
            "addr_state 50\n",
            "dti 2868\n",
            "delinq_2yrs 11\n",
            "earliest_cr_line 526\n",
            "inq_last_6mths 9\n",
            "open_acc 40\n",
            "pub_rec 5\n",
            "revol_bal 21711\n",
            "revol_util 1089\n",
            "total_acc 82\n",
            "initial_list_status 1\n",
            "out_prncp 1137\n",
            "out_prncp_inv 1138\n",
            "total_pymnt 37850\n",
            "total_pymnt_inv 37518\n",
            "total_rec_prncp 7976\n",
            "total_rec_int 35148\n",
            "total_rec_late_fee 1356\n",
            "recoveries 4040\n",
            "collection_recovery_fee 2616\n",
            "last_pymnt_d 101\n",
            "last_pymnt_amnt 34930\n",
            "last_credit_pull_d 106\n",
            "collections_12_mths_ex_med 1\n",
            "policy_code 1\n",
            "application_type 1\n",
            "acc_now_delinq 1\n",
            "chargeoff_within_12_mths 1\n",
            "delinq_amnt 1\n",
            "pub_rec_bankruptcies 3\n",
            "tax_liens 1\n"
          ]
        }
      ]
    },
    {
      "cell_type": "code",
      "source": [
        "drop_col = [col for col in df.columns if (df[col].value_counts(dropna=True).count()==1)]\n",
        "print(\"\\nColumns with only 1 unique value, which doesn't give much insight, so let's drop: \",drop_col)"
      ],
      "metadata": {
        "colab": {
          "base_uri": "https://localhost:8080/"
        },
        "id": "gDD9FHmFn59B",
        "outputId": "ed59ff50-2981-474d-fc2c-2cee17ddc0ec"
      },
      "execution_count": 281,
      "outputs": [
        {
          "output_type": "stream",
          "name": "stdout",
          "text": [
            "\n",
            "Columns with only 1 unique value, which doesn't give much insight, so let's drop:  ['pymnt_plan', 'initial_list_status', 'collections_12_mths_ex_med', 'policy_code', 'application_type', 'acc_now_delinq', 'chargeoff_within_12_mths', 'delinq_amnt', 'tax_liens']\n"
          ]
        }
      ]
    },
    {
      "cell_type": "code",
      "source": [
        "df.drop(drop_col,axis=1,inplace=True)"
      ],
      "metadata": {
        "id": "KiQOM1JFKv18"
      },
      "execution_count": 282,
      "outputs": []
    },
    {
      "cell_type": "code",
      "source": [
        "print(\"Number of features after handling unnecessary columns: \", df.shape[1])"
      ],
      "metadata": {
        "colab": {
          "base_uri": "https://localhost:8080/"
        },
        "id": "a5r-HBCpK9md",
        "outputId": "970b815f-681b-4f07-e4ec-21ae3f200aa5"
      },
      "execution_count": 283,
      "outputs": [
        {
          "output_type": "stream",
          "name": "stdout",
          "text": [
            "Number of features after handling unnecessary columns:  44\n"
          ]
        }
      ]
    },
    {
      "cell_type": "markdown",
      "source": [
        "### **Fixing missing values**\n"
      ],
      "metadata": {
        "id": "iT1O2S_8peaM"
      }
    },
    {
      "cell_type": "code",
      "source": [
        "df.isnull().sum()"
      ],
      "metadata": {
        "colab": {
          "base_uri": "https://localhost:8080/"
        },
        "id": "T52Osl2Fpjr8",
        "outputId": "bb34e43b-5894-4b56-fe77-8e378c82eb6d"
      },
      "execution_count": 284,
      "outputs": [
        {
          "output_type": "execute_result",
          "data": {
            "text/plain": [
              "id                             0\n",
              "member_id                      0\n",
              "loan_amnt                      0\n",
              "funded_amnt                    0\n",
              "funded_amnt_inv                0\n",
              "term                           0\n",
              "int_rate                       0\n",
              "installment                    0\n",
              "grade                          0\n",
              "sub_grade                      0\n",
              "emp_title                   2459\n",
              "emp_length                  1075\n",
              "home_ownership                 0\n",
              "annual_inc                     0\n",
              "verification_status            0\n",
              "issue_d                        0\n",
              "loan_status                    0\n",
              "desc                       12940\n",
              "purpose                        0\n",
              "title                         11\n",
              "zip_code                       0\n",
              "addr_state                     0\n",
              "dti                            0\n",
              "delinq_2yrs                    0\n",
              "earliest_cr_line               0\n",
              "inq_last_6mths                 0\n",
              "open_acc                       0\n",
              "pub_rec                        0\n",
              "revol_bal                      0\n",
              "revol_util                    50\n",
              "total_acc                      0\n",
              "out_prncp                      0\n",
              "out_prncp_inv                  0\n",
              "total_pymnt                    0\n",
              "total_pymnt_inv                0\n",
              "total_rec_prncp                0\n",
              "total_rec_int                  0\n",
              "total_rec_late_fee             0\n",
              "recoveries                     0\n",
              "collection_recovery_fee        0\n",
              "last_pymnt_d                  71\n",
              "last_pymnt_amnt                0\n",
              "last_credit_pull_d             2\n",
              "pub_rec_bankruptcies         697\n",
              "dtype: int64"
            ]
          },
          "metadata": {},
          "execution_count": 284
        }
      ]
    },
    {
      "cell_type": "code",
      "source": [
        "df.isna().any()[lambda x: x].index"
      ],
      "metadata": {
        "colab": {
          "base_uri": "https://localhost:8080/"
        },
        "id": "g6rhk7irqGPi",
        "outputId": "cfa94ded-1230-4461-8417-b5d630e1edfc"
      },
      "execution_count": 285,
      "outputs": [
        {
          "output_type": "execute_result",
          "data": {
            "text/plain": [
              "Index(['emp_title', 'emp_length', 'desc', 'title', 'revol_util',\n",
              "       'last_pymnt_d', 'last_credit_pull_d', 'pub_rec_bankruptcies'],\n",
              "      dtype='object')"
            ]
          },
          "metadata": {},
          "execution_count": 285
        }
      ]
    },
    {
      "cell_type": "code",
      "source": [
        "df[['emp_title', 'emp_length', 'desc', 'title', 'revol_util','last_pymnt_d', 'last_credit_pull_d', 'pub_rec_bankruptcies']].head()"
      ],
      "metadata": {
        "colab": {
          "base_uri": "https://localhost:8080/",
          "height": 206
        },
        "id": "0_ySnj6kqoo7",
        "outputId": "1518731e-88d7-4319-ca91-813ca3492f50"
      },
      "execution_count": 286,
      "outputs": [
        {
          "output_type": "execute_result",
          "data": {
            "text/plain": [
              "                  emp_title emp_length  \\\n",
              "0                       NaN  10+ years   \n",
              "1                     Ryder   < 1 year   \n",
              "2                       NaN  10+ years   \n",
              "3       AIR RESOURCES BOARD  10+ years   \n",
              "4  University Medical Group     1 year   \n",
              "\n",
              "                                                desc                 title  \\\n",
              "0    Borrower added on 12/22/11 > I need to upgra...              Computer   \n",
              "1    Borrower added on 12/22/11 > I plan to use t...                  bike   \n",
              "2                                                NaN  real estate business   \n",
              "3    Borrower added on 12/21/11 > to pay for prop...              personel   \n",
              "4    Borrower added on 12/21/11 > I plan on combi...              Personal   \n",
              "\n",
              "  revol_util last_pymnt_d last_credit_pull_d  pub_rec_bankruptcies  \n",
              "0     83.70%       Jan-15             May-16                   0.0  \n",
              "1      9.40%       Apr-13             Sep-13                   0.0  \n",
              "2     98.50%       Jun-14             May-16                   0.0  \n",
              "3        21%       Jan-15             Apr-16                   0.0  \n",
              "4     53.90%       May-16             May-16                   0.0  "
            ],
            "text/html": [
              "\n",
              "  <div id=\"df-aa5cb6e6-9658-4330-9376-377af01ac824\">\n",
              "    <div class=\"colab-df-container\">\n",
              "      <div>\n",
              "<style scoped>\n",
              "    .dataframe tbody tr th:only-of-type {\n",
              "        vertical-align: middle;\n",
              "    }\n",
              "\n",
              "    .dataframe tbody tr th {\n",
              "        vertical-align: top;\n",
              "    }\n",
              "\n",
              "    .dataframe thead th {\n",
              "        text-align: right;\n",
              "    }\n",
              "</style>\n",
              "<table border=\"1\" class=\"dataframe\">\n",
              "  <thead>\n",
              "    <tr style=\"text-align: right;\">\n",
              "      <th></th>\n",
              "      <th>emp_title</th>\n",
              "      <th>emp_length</th>\n",
              "      <th>desc</th>\n",
              "      <th>title</th>\n",
              "      <th>revol_util</th>\n",
              "      <th>last_pymnt_d</th>\n",
              "      <th>last_credit_pull_d</th>\n",
              "      <th>pub_rec_bankruptcies</th>\n",
              "    </tr>\n",
              "  </thead>\n",
              "  <tbody>\n",
              "    <tr>\n",
              "      <th>0</th>\n",
              "      <td>NaN</td>\n",
              "      <td>10+ years</td>\n",
              "      <td>Borrower added on 12/22/11 &gt; I need to upgra...</td>\n",
              "      <td>Computer</td>\n",
              "      <td>83.70%</td>\n",
              "      <td>Jan-15</td>\n",
              "      <td>May-16</td>\n",
              "      <td>0.0</td>\n",
              "    </tr>\n",
              "    <tr>\n",
              "      <th>1</th>\n",
              "      <td>Ryder</td>\n",
              "      <td>&lt; 1 year</td>\n",
              "      <td>Borrower added on 12/22/11 &gt; I plan to use t...</td>\n",
              "      <td>bike</td>\n",
              "      <td>9.40%</td>\n",
              "      <td>Apr-13</td>\n",
              "      <td>Sep-13</td>\n",
              "      <td>0.0</td>\n",
              "    </tr>\n",
              "    <tr>\n",
              "      <th>2</th>\n",
              "      <td>NaN</td>\n",
              "      <td>10+ years</td>\n",
              "      <td>NaN</td>\n",
              "      <td>real estate business</td>\n",
              "      <td>98.50%</td>\n",
              "      <td>Jun-14</td>\n",
              "      <td>May-16</td>\n",
              "      <td>0.0</td>\n",
              "    </tr>\n",
              "    <tr>\n",
              "      <th>3</th>\n",
              "      <td>AIR RESOURCES BOARD</td>\n",
              "      <td>10+ years</td>\n",
              "      <td>Borrower added on 12/21/11 &gt; to pay for prop...</td>\n",
              "      <td>personel</td>\n",
              "      <td>21%</td>\n",
              "      <td>Jan-15</td>\n",
              "      <td>Apr-16</td>\n",
              "      <td>0.0</td>\n",
              "    </tr>\n",
              "    <tr>\n",
              "      <th>4</th>\n",
              "      <td>University Medical Group</td>\n",
              "      <td>1 year</td>\n",
              "      <td>Borrower added on 12/21/11 &gt; I plan on combi...</td>\n",
              "      <td>Personal</td>\n",
              "      <td>53.90%</td>\n",
              "      <td>May-16</td>\n",
              "      <td>May-16</td>\n",
              "      <td>0.0</td>\n",
              "    </tr>\n",
              "  </tbody>\n",
              "</table>\n",
              "</div>\n",
              "      <button class=\"colab-df-convert\" onclick=\"convertToInteractive('df-aa5cb6e6-9658-4330-9376-377af01ac824')\"\n",
              "              title=\"Convert this dataframe to an interactive table.\"\n",
              "              style=\"display:none;\">\n",
              "        \n",
              "  <svg xmlns=\"http://www.w3.org/2000/svg\" height=\"24px\"viewBox=\"0 0 24 24\"\n",
              "       width=\"24px\">\n",
              "    <path d=\"M0 0h24v24H0V0z\" fill=\"none\"/>\n",
              "    <path d=\"M18.56 5.44l.94 2.06.94-2.06 2.06-.94-2.06-.94-.94-2.06-.94 2.06-2.06.94zm-11 1L8.5 8.5l.94-2.06 2.06-.94-2.06-.94L8.5 2.5l-.94 2.06-2.06.94zm10 10l.94 2.06.94-2.06 2.06-.94-2.06-.94-.94-2.06-.94 2.06-2.06.94z\"/><path d=\"M17.41 7.96l-1.37-1.37c-.4-.4-.92-.59-1.43-.59-.52 0-1.04.2-1.43.59L10.3 9.45l-7.72 7.72c-.78.78-.78 2.05 0 2.83L4 21.41c.39.39.9.59 1.41.59.51 0 1.02-.2 1.41-.59l7.78-7.78 2.81-2.81c.8-.78.8-2.07 0-2.86zM5.41 20L4 18.59l7.72-7.72 1.47 1.35L5.41 20z\"/>\n",
              "  </svg>\n",
              "      </button>\n",
              "      \n",
              "  <style>\n",
              "    .colab-df-container {\n",
              "      display:flex;\n",
              "      flex-wrap:wrap;\n",
              "      gap: 12px;\n",
              "    }\n",
              "\n",
              "    .colab-df-convert {\n",
              "      background-color: #E8F0FE;\n",
              "      border: none;\n",
              "      border-radius: 50%;\n",
              "      cursor: pointer;\n",
              "      display: none;\n",
              "      fill: #1967D2;\n",
              "      height: 32px;\n",
              "      padding: 0 0 0 0;\n",
              "      width: 32px;\n",
              "    }\n",
              "\n",
              "    .colab-df-convert:hover {\n",
              "      background-color: #E2EBFA;\n",
              "      box-shadow: 0px 1px 2px rgba(60, 64, 67, 0.3), 0px 1px 3px 1px rgba(60, 64, 67, 0.15);\n",
              "      fill: #174EA6;\n",
              "    }\n",
              "\n",
              "    [theme=dark] .colab-df-convert {\n",
              "      background-color: #3B4455;\n",
              "      fill: #D2E3FC;\n",
              "    }\n",
              "\n",
              "    [theme=dark] .colab-df-convert:hover {\n",
              "      background-color: #434B5C;\n",
              "      box-shadow: 0px 1px 3px 1px rgba(0, 0, 0, 0.15);\n",
              "      filter: drop-shadow(0px 1px 2px rgba(0, 0, 0, 0.3));\n",
              "      fill: #FFFFFF;\n",
              "    }\n",
              "  </style>\n",
              "\n",
              "      <script>\n",
              "        const buttonEl =\n",
              "          document.querySelector('#df-aa5cb6e6-9658-4330-9376-377af01ac824 button.colab-df-convert');\n",
              "        buttonEl.style.display =\n",
              "          google.colab.kernel.accessAllowed ? 'block' : 'none';\n",
              "\n",
              "        async function convertToInteractive(key) {\n",
              "          const element = document.querySelector('#df-aa5cb6e6-9658-4330-9376-377af01ac824');\n",
              "          const dataTable =\n",
              "            await google.colab.kernel.invokeFunction('convertToInteractive',\n",
              "                                                     [key], {});\n",
              "          if (!dataTable) return;\n",
              "\n",
              "          const docLinkHtml = 'Like what you see? Visit the ' +\n",
              "            '<a target=\"_blank\" href=https://colab.research.google.com/notebooks/data_table.ipynb>data table notebook</a>'\n",
              "            + ' to learn more about interactive tables.';\n",
              "          element.innerHTML = '';\n",
              "          dataTable['output_type'] = 'display_data';\n",
              "          await google.colab.output.renderOutput(dataTable, element);\n",
              "          const docLink = document.createElement('div');\n",
              "          docLink.innerHTML = docLinkHtml;\n",
              "          element.appendChild(docLink);\n",
              "        }\n",
              "      </script>\n",
              "    </div>\n",
              "  </div>\n",
              "  "
            ]
          },
          "metadata": {},
          "execution_count": 286
        }
      ]
    },
    {
      "cell_type": "code",
      "source": [
        "df['revol_util'] = df['revol_util'].apply(lambda x : \"0%\" if pd.isna(x) else x)"
      ],
      "metadata": {
        "id": "YwI8L3oOsfww"
      },
      "execution_count": 287,
      "outputs": []
    },
    {
      "cell_type": "code",
      "source": [
        "df['pub_rec_bankruptcies'].value_counts(dropna=False)"
      ],
      "metadata": {
        "colab": {
          "base_uri": "https://localhost:8080/"
        },
        "id": "oVQJGt0TruPU",
        "outputId": "4a54fd63-4442-469b-f7f2-40f4a915dbdb"
      },
      "execution_count": 288,
      "outputs": [
        {
          "output_type": "execute_result",
          "data": {
            "text/plain": [
              "0.0    37339\n",
              "1.0     1674\n",
              "NaN      697\n",
              "2.0        7\n",
              "Name: pub_rec_bankruptcies, dtype: int64"
            ]
          },
          "metadata": {},
          "execution_count": 288
        }
      ]
    },
    {
      "cell_type": "code",
      "source": [
        "df['pub_rec_bankruptcies'] = df['pub_rec_bankruptcies'].apply(lambda x : 0.0 if pd.isna(x) else x)"
      ],
      "metadata": {
        "id": "hO8XdTJir_AY"
      },
      "execution_count": 289,
      "outputs": []
    },
    {
      "cell_type": "code",
      "source": [
        "df['emp_length'].value_counts(dropna=False)"
      ],
      "metadata": {
        "colab": {
          "base_uri": "https://localhost:8080/"
        },
        "id": "krGpxdV1sHkY",
        "outputId": "73d3d7d1-362c-4777-baad-b3db93bc8e66"
      },
      "execution_count": 290,
      "outputs": [
        {
          "output_type": "execute_result",
          "data": {
            "text/plain": [
              "10+ years    8879\n",
              "< 1 year     4583\n",
              "2 years      4388\n",
              "3 years      4095\n",
              "4 years      3436\n",
              "5 years      3282\n",
              "1 year       3240\n",
              "6 years      2229\n",
              "7 years      1773\n",
              "8 years      1479\n",
              "9 years      1258\n",
              "NaN          1075\n",
              "Name: emp_length, dtype: int64"
            ]
          },
          "metadata": {},
          "execution_count": 290
        }
      ]
    },
    {
      "cell_type": "code",
      "source": [
        "#imputing the missing values with '0 year' as it justifies the meaning, that the person is unemployed \n",
        "df['emp_length'] = df['emp_length'].apply(lambda x : \"0 year\" if pd.isna(x) else x)"
      ],
      "metadata": {
        "id": "etXt5cEFrI0t"
      },
      "execution_count": 291,
      "outputs": []
    },
    {
      "cell_type": "markdown",
      "source": [
        "### **Standardizing the values and fixing data types**\n"
      ],
      "metadata": {
        "id": "jYnHbCLVoubv"
      }
    },
    {
      "cell_type": "code",
      "source": [
        "df.head(1)"
      ],
      "metadata": {
        "colab": {
          "base_uri": "https://localhost:8080/",
          "height": 249
        },
        "id": "rCygTYIct76m",
        "outputId": "c8a490b5-3ef6-4b3d-ef46-395698eb647a"
      },
      "execution_count": 292,
      "outputs": [
        {
          "output_type": "execute_result",
          "data": {
            "text/plain": [
              "        id  member_id  loan_amnt  funded_amnt  funded_amnt_inv        term  \\\n",
              "0  1077501    1296599       5000         5000           4975.0   36 months   \n",
              "\n",
              "  int_rate  installment grade sub_grade emp_title emp_length home_ownership  \\\n",
              "0   10.65%       162.87     B        B2       NaN  10+ years           RENT   \n",
              "\n",
              "   annual_inc verification_status issue_d loan_status  \\\n",
              "0     24000.0            Verified  Dec-11  Fully Paid   \n",
              "\n",
              "                                                desc      purpose     title  \\\n",
              "0    Borrower added on 12/22/11 > I need to upgra...  credit_card  Computer   \n",
              "\n",
              "  zip_code addr_state    dti  delinq_2yrs earliest_cr_line  inq_last_6mths  \\\n",
              "0    860xx         AZ  27.65            0           Jan-85               1   \n",
              "\n",
              "   open_acc  pub_rec  revol_bal revol_util  total_acc  out_prncp  \\\n",
              "0         3        0      13648     83.70%          9        0.0   \n",
              "\n",
              "   out_prncp_inv  total_pymnt  total_pymnt_inv  total_rec_prncp  \\\n",
              "0            0.0  5863.155187          5833.84           5000.0   \n",
              "\n",
              "   total_rec_int  total_rec_late_fee  recoveries  collection_recovery_fee  \\\n",
              "0         863.16                 0.0         0.0                      0.0   \n",
              "\n",
              "  last_pymnt_d  last_pymnt_amnt last_credit_pull_d  pub_rec_bankruptcies  \n",
              "0       Jan-15           171.62             May-16                   0.0  "
            ],
            "text/html": [
              "\n",
              "  <div id=\"df-f25277d1-4a99-4b59-b94b-59a62ecfef60\">\n",
              "    <div class=\"colab-df-container\">\n",
              "      <div>\n",
              "<style scoped>\n",
              "    .dataframe tbody tr th:only-of-type {\n",
              "        vertical-align: middle;\n",
              "    }\n",
              "\n",
              "    .dataframe tbody tr th {\n",
              "        vertical-align: top;\n",
              "    }\n",
              "\n",
              "    .dataframe thead th {\n",
              "        text-align: right;\n",
              "    }\n",
              "</style>\n",
              "<table border=\"1\" class=\"dataframe\">\n",
              "  <thead>\n",
              "    <tr style=\"text-align: right;\">\n",
              "      <th></th>\n",
              "      <th>id</th>\n",
              "      <th>member_id</th>\n",
              "      <th>loan_amnt</th>\n",
              "      <th>funded_amnt</th>\n",
              "      <th>funded_amnt_inv</th>\n",
              "      <th>term</th>\n",
              "      <th>int_rate</th>\n",
              "      <th>installment</th>\n",
              "      <th>grade</th>\n",
              "      <th>sub_grade</th>\n",
              "      <th>emp_title</th>\n",
              "      <th>emp_length</th>\n",
              "      <th>home_ownership</th>\n",
              "      <th>annual_inc</th>\n",
              "      <th>verification_status</th>\n",
              "      <th>issue_d</th>\n",
              "      <th>loan_status</th>\n",
              "      <th>desc</th>\n",
              "      <th>purpose</th>\n",
              "      <th>title</th>\n",
              "      <th>zip_code</th>\n",
              "      <th>addr_state</th>\n",
              "      <th>dti</th>\n",
              "      <th>delinq_2yrs</th>\n",
              "      <th>earliest_cr_line</th>\n",
              "      <th>inq_last_6mths</th>\n",
              "      <th>open_acc</th>\n",
              "      <th>pub_rec</th>\n",
              "      <th>revol_bal</th>\n",
              "      <th>revol_util</th>\n",
              "      <th>total_acc</th>\n",
              "      <th>out_prncp</th>\n",
              "      <th>out_prncp_inv</th>\n",
              "      <th>total_pymnt</th>\n",
              "      <th>total_pymnt_inv</th>\n",
              "      <th>total_rec_prncp</th>\n",
              "      <th>total_rec_int</th>\n",
              "      <th>total_rec_late_fee</th>\n",
              "      <th>recoveries</th>\n",
              "      <th>collection_recovery_fee</th>\n",
              "      <th>last_pymnt_d</th>\n",
              "      <th>last_pymnt_amnt</th>\n",
              "      <th>last_credit_pull_d</th>\n",
              "      <th>pub_rec_bankruptcies</th>\n",
              "    </tr>\n",
              "  </thead>\n",
              "  <tbody>\n",
              "    <tr>\n",
              "      <th>0</th>\n",
              "      <td>1077501</td>\n",
              "      <td>1296599</td>\n",
              "      <td>5000</td>\n",
              "      <td>5000</td>\n",
              "      <td>4975.0</td>\n",
              "      <td>36 months</td>\n",
              "      <td>10.65%</td>\n",
              "      <td>162.87</td>\n",
              "      <td>B</td>\n",
              "      <td>B2</td>\n",
              "      <td>NaN</td>\n",
              "      <td>10+ years</td>\n",
              "      <td>RENT</td>\n",
              "      <td>24000.0</td>\n",
              "      <td>Verified</td>\n",
              "      <td>Dec-11</td>\n",
              "      <td>Fully Paid</td>\n",
              "      <td>Borrower added on 12/22/11 &gt; I need to upgra...</td>\n",
              "      <td>credit_card</td>\n",
              "      <td>Computer</td>\n",
              "      <td>860xx</td>\n",
              "      <td>AZ</td>\n",
              "      <td>27.65</td>\n",
              "      <td>0</td>\n",
              "      <td>Jan-85</td>\n",
              "      <td>1</td>\n",
              "      <td>3</td>\n",
              "      <td>0</td>\n",
              "      <td>13648</td>\n",
              "      <td>83.70%</td>\n",
              "      <td>9</td>\n",
              "      <td>0.0</td>\n",
              "      <td>0.0</td>\n",
              "      <td>5863.155187</td>\n",
              "      <td>5833.84</td>\n",
              "      <td>5000.0</td>\n",
              "      <td>863.16</td>\n",
              "      <td>0.0</td>\n",
              "      <td>0.0</td>\n",
              "      <td>0.0</td>\n",
              "      <td>Jan-15</td>\n",
              "      <td>171.62</td>\n",
              "      <td>May-16</td>\n",
              "      <td>0.0</td>\n",
              "    </tr>\n",
              "  </tbody>\n",
              "</table>\n",
              "</div>\n",
              "      <button class=\"colab-df-convert\" onclick=\"convertToInteractive('df-f25277d1-4a99-4b59-b94b-59a62ecfef60')\"\n",
              "              title=\"Convert this dataframe to an interactive table.\"\n",
              "              style=\"display:none;\">\n",
              "        \n",
              "  <svg xmlns=\"http://www.w3.org/2000/svg\" height=\"24px\"viewBox=\"0 0 24 24\"\n",
              "       width=\"24px\">\n",
              "    <path d=\"M0 0h24v24H0V0z\" fill=\"none\"/>\n",
              "    <path d=\"M18.56 5.44l.94 2.06.94-2.06 2.06-.94-2.06-.94-.94-2.06-.94 2.06-2.06.94zm-11 1L8.5 8.5l.94-2.06 2.06-.94-2.06-.94L8.5 2.5l-.94 2.06-2.06.94zm10 10l.94 2.06.94-2.06 2.06-.94-2.06-.94-.94-2.06-.94 2.06-2.06.94z\"/><path d=\"M17.41 7.96l-1.37-1.37c-.4-.4-.92-.59-1.43-.59-.52 0-1.04.2-1.43.59L10.3 9.45l-7.72 7.72c-.78.78-.78 2.05 0 2.83L4 21.41c.39.39.9.59 1.41.59.51 0 1.02-.2 1.41-.59l7.78-7.78 2.81-2.81c.8-.78.8-2.07 0-2.86zM5.41 20L4 18.59l7.72-7.72 1.47 1.35L5.41 20z\"/>\n",
              "  </svg>\n",
              "      </button>\n",
              "      \n",
              "  <style>\n",
              "    .colab-df-container {\n",
              "      display:flex;\n",
              "      flex-wrap:wrap;\n",
              "      gap: 12px;\n",
              "    }\n",
              "\n",
              "    .colab-df-convert {\n",
              "      background-color: #E8F0FE;\n",
              "      border: none;\n",
              "      border-radius: 50%;\n",
              "      cursor: pointer;\n",
              "      display: none;\n",
              "      fill: #1967D2;\n",
              "      height: 32px;\n",
              "      padding: 0 0 0 0;\n",
              "      width: 32px;\n",
              "    }\n",
              "\n",
              "    .colab-df-convert:hover {\n",
              "      background-color: #E2EBFA;\n",
              "      box-shadow: 0px 1px 2px rgba(60, 64, 67, 0.3), 0px 1px 3px 1px rgba(60, 64, 67, 0.15);\n",
              "      fill: #174EA6;\n",
              "    }\n",
              "\n",
              "    [theme=dark] .colab-df-convert {\n",
              "      background-color: #3B4455;\n",
              "      fill: #D2E3FC;\n",
              "    }\n",
              "\n",
              "    [theme=dark] .colab-df-convert:hover {\n",
              "      background-color: #434B5C;\n",
              "      box-shadow: 0px 1px 3px 1px rgba(0, 0, 0, 0.15);\n",
              "      filter: drop-shadow(0px 1px 2px rgba(0, 0, 0, 0.3));\n",
              "      fill: #FFFFFF;\n",
              "    }\n",
              "  </style>\n",
              "\n",
              "      <script>\n",
              "        const buttonEl =\n",
              "          document.querySelector('#df-f25277d1-4a99-4b59-b94b-59a62ecfef60 button.colab-df-convert');\n",
              "        buttonEl.style.display =\n",
              "          google.colab.kernel.accessAllowed ? 'block' : 'none';\n",
              "\n",
              "        async function convertToInteractive(key) {\n",
              "          const element = document.querySelector('#df-f25277d1-4a99-4b59-b94b-59a62ecfef60');\n",
              "          const dataTable =\n",
              "            await google.colab.kernel.invokeFunction('convertToInteractive',\n",
              "                                                     [key], {});\n",
              "          if (!dataTable) return;\n",
              "\n",
              "          const docLinkHtml = 'Like what you see? Visit the ' +\n",
              "            '<a target=\"_blank\" href=https://colab.research.google.com/notebooks/data_table.ipynb>data table notebook</a>'\n",
              "            + ' to learn more about interactive tables.';\n",
              "          element.innerHTML = '';\n",
              "          dataTable['output_type'] = 'display_data';\n",
              "          await google.colab.output.renderOutput(dataTable, element);\n",
              "          const docLink = document.createElement('div');\n",
              "          docLink.innerHTML = docLinkHtml;\n",
              "          element.appendChild(docLink);\n",
              "        }\n",
              "      </script>\n",
              "    </div>\n",
              "  </div>\n",
              "  "
            ]
          },
          "metadata": {},
          "execution_count": 292
        }
      ]
    },
    {
      "cell_type": "code",
      "source": [
        "df['term'] = df['term'].str.strip(\"months\").astype('int')\n",
        "print(df['term'].head(3))"
      ],
      "metadata": {
        "colab": {
          "base_uri": "https://localhost:8080/"
        },
        "id": "WQcWehuzt50x",
        "outputId": "34e90246-8c11-4e0e-a094-da9e0e972c0b"
      },
      "execution_count": 293,
      "outputs": [
        {
          "output_type": "stream",
          "name": "stdout",
          "text": [
            "0    36\n",
            "1    60\n",
            "2    36\n",
            "Name: term, dtype: int64\n"
          ]
        }
      ]
    },
    {
      "cell_type": "code",
      "source": [
        "df['int_rate'] = df['int_rate'].str.strip(\"%\").astype('float')\n",
        "print(df['int_rate'].head(3))"
      ],
      "metadata": {
        "colab": {
          "base_uri": "https://localhost:8080/"
        },
        "id": "EPBXmTycVRCH",
        "outputId": "749b219c-b831-42f0-cc49-6843a0f10236"
      },
      "execution_count": 294,
      "outputs": [
        {
          "output_type": "stream",
          "name": "stdout",
          "text": [
            "0    10.65\n",
            "1    15.27\n",
            "2    15.96\n",
            "Name: int_rate, dtype: float64\n"
          ]
        }
      ]
    },
    {
      "cell_type": "code",
      "source": [
        "df['emp_length'] = df['emp_length'].apply(lambda x : x if pd.isna(x) else x.replace(\"< \",\"\").replace(\"+\",\"\")).str.split(\" \", n = 1, expand = True)[0].astype('int')\n",
        "print(df['emp_length'].head(3))"
      ],
      "metadata": {
        "colab": {
          "base_uri": "https://localhost:8080/"
        },
        "id": "NA_6o5JLVv91",
        "outputId": "a2f1ea30-e99c-4282-d396-f5fa0941e91f"
      },
      "execution_count": 295,
      "outputs": [
        {
          "output_type": "stream",
          "name": "stdout",
          "text": [
            "0    10\n",
            "1     1\n",
            "2    10\n",
            "Name: emp_length, dtype: int64\n"
          ]
        }
      ]
    },
    {
      "cell_type": "code",
      "source": [
        "df['emp_length'].value_counts()"
      ],
      "metadata": {
        "colab": {
          "base_uri": "https://localhost:8080/"
        },
        "id": "mMOswrLrvVye",
        "outputId": "605d24c3-9960-4011-c50d-8296364b8e57"
      },
      "execution_count": 296,
      "outputs": [
        {
          "output_type": "execute_result",
          "data": {
            "text/plain": [
              "10    8879\n",
              "1     7823\n",
              "2     4388\n",
              "3     4095\n",
              "4     3436\n",
              "5     3282\n",
              "6     2229\n",
              "7     1773\n",
              "8     1479\n",
              "9     1258\n",
              "0     1075\n",
              "Name: emp_length, dtype: int64"
            ]
          },
          "metadata": {},
          "execution_count": 296
        }
      ]
    },
    {
      "cell_type": "code",
      "source": [
        "df['revol_util'] = df['revol_util'].str.strip(\"%\").astype('float')\n",
        "print(df['revol_util'].head(3))"
      ],
      "metadata": {
        "colab": {
          "base_uri": "https://localhost:8080/"
        },
        "id": "QSwHP7DxTqaz",
        "outputId": "90dec007-a8cf-4baf-d08e-d8fa2a6f5649"
      },
      "execution_count": 297,
      "outputs": [
        {
          "output_type": "stream",
          "name": "stdout",
          "text": [
            "0    83.7\n",
            "1     9.4\n",
            "2    98.5\n",
            "Name: revol_util, dtype: float64\n"
          ]
        }
      ]
    },
    {
      "cell_type": "code",
      "source": [
        "df['pub_rec_bankruptcies'] = df['pub_rec_bankruptcies'].astype('int')\n",
        "print(df['pub_rec_bankruptcies'].head(3))"
      ],
      "metadata": {
        "colab": {
          "base_uri": "https://localhost:8080/"
        },
        "outputId": "e0ec54c1-a5b2-466a-92a7-de95aecb97b9",
        "id": "gciI8m8LuP1U"
      },
      "execution_count": 298,
      "outputs": [
        {
          "output_type": "stream",
          "name": "stdout",
          "text": [
            "0    0\n",
            "1    0\n",
            "2    0\n",
            "Name: pub_rec_bankruptcies, dtype: int64\n"
          ]
        }
      ]
    },
    {
      "cell_type": "code",
      "source": [
        "import datetime as dt\n",
        "df['issue_d'] = df['issue_d'].apply(lambda x: x if pd.isna(x) else dt.datetime.strptime(x,'%b-%y'))\n",
        "df['issue_d'].head(3)"
      ],
      "metadata": {
        "colab": {
          "base_uri": "https://localhost:8080/"
        },
        "id": "5Dqc0dXg_SQm",
        "outputId": "57d63382-dcbc-4098-bf3a-4b52d2b66a17"
      },
      "execution_count": 299,
      "outputs": [
        {
          "output_type": "execute_result",
          "data": {
            "text/plain": [
              "0   2011-12-01\n",
              "1   2011-12-01\n",
              "2   2011-12-01\n",
              "Name: issue_d, dtype: datetime64[ns]"
            ]
          },
          "metadata": {},
          "execution_count": 299
        }
      ]
    },
    {
      "cell_type": "code",
      "source": [
        "df['earliest_cr_line'] = df['earliest_cr_line'].apply(lambda x: x if pd.isna(x) else dt.datetime.strptime(x,'%b-%y'))\n",
        "df['earliest_cr_line'].head(3)"
      ],
      "metadata": {
        "colab": {
          "base_uri": "https://localhost:8080/"
        },
        "id": "Tc2wR4a_7d7G",
        "outputId": "6b807085-bd11-4ff0-a1ba-31dd6e547170"
      },
      "execution_count": 300,
      "outputs": [
        {
          "output_type": "execute_result",
          "data": {
            "text/plain": [
              "0   1985-01-01\n",
              "1   1999-04-01\n",
              "2   2001-11-01\n",
              "Name: earliest_cr_line, dtype: datetime64[ns]"
            ]
          },
          "metadata": {},
          "execution_count": 300
        }
      ]
    },
    {
      "cell_type": "code",
      "source": [
        "df['last_pymnt_d'] = df['last_pymnt_d'].apply(lambda x: x if pd.isna(x) else dt.datetime.strptime(x,'%b-%y'))\n",
        "df['last_pymnt_d'].head(3)"
      ],
      "metadata": {
        "colab": {
          "base_uri": "https://localhost:8080/"
        },
        "outputId": "17a2966d-93f9-4c4d-ed70-a3b23c4ae74e",
        "id": "CZvehZ4P7lap"
      },
      "execution_count": 301,
      "outputs": [
        {
          "output_type": "execute_result",
          "data": {
            "text/plain": [
              "0   2015-01-01\n",
              "1   2013-04-01\n",
              "2   2014-06-01\n",
              "Name: last_pymnt_d, dtype: datetime64[ns]"
            ]
          },
          "metadata": {},
          "execution_count": 301
        }
      ]
    },
    {
      "cell_type": "code",
      "source": [
        "df['last_credit_pull_d'] = df['last_credit_pull_d'].apply(lambda x: x if pd.isna(x) else dt.datetime.strptime(x,'%b-%y'))\n",
        "df['last_credit_pull_d'].head(3)"
      ],
      "metadata": {
        "colab": {
          "base_uri": "https://localhost:8080/"
        },
        "outputId": "54fbe23d-a060-4ace-8d2c-87e42f4eb3c5",
        "id": "dD5S7Tn7_PnO"
      },
      "execution_count": 302,
      "outputs": [
        {
          "output_type": "execute_result",
          "data": {
            "text/plain": [
              "0   2016-05-01\n",
              "1   2013-09-01\n",
              "2   2016-05-01\n",
              "Name: last_credit_pull_d, dtype: datetime64[ns]"
            ]
          },
          "metadata": {},
          "execution_count": 302
        }
      ]
    },
    {
      "cell_type": "markdown",
      "source": [
        "###**Filtering data**\n",
        "\n",
        "1. Let's exclude the features that account as customer behavioral variables as they are not available at the time of approval/rejecting loan. \n",
        "2. Let's also remove the features that describe current ongoing loans"
      ],
      "metadata": {
        "id": "RRnZHVYH_nZk"
      }
    },
    {
      "cell_type": "code",
      "source": [
        "df.columns"
      ],
      "metadata": {
        "colab": {
          "base_uri": "https://localhost:8080/"
        },
        "id": "xS7TlN2w_10-",
        "outputId": "2bb467dc-8f8d-48fb-e3ca-597e84ff9c56"
      },
      "execution_count": 303,
      "outputs": [
        {
          "output_type": "execute_result",
          "data": {
            "text/plain": [
              "Index(['id', 'member_id', 'loan_amnt', 'funded_amnt', 'funded_amnt_inv',\n",
              "       'term', 'int_rate', 'installment', 'grade', 'sub_grade', 'emp_title',\n",
              "       'emp_length', 'home_ownership', 'annual_inc', 'verification_status',\n",
              "       'issue_d', 'loan_status', 'desc', 'purpose', 'title', 'zip_code',\n",
              "       'addr_state', 'dti', 'delinq_2yrs', 'earliest_cr_line',\n",
              "       'inq_last_6mths', 'open_acc', 'pub_rec', 'revol_bal', 'revol_util',\n",
              "       'total_acc', 'out_prncp', 'out_prncp_inv', 'total_pymnt',\n",
              "       'total_pymnt_inv', 'total_rec_prncp', 'total_rec_int',\n",
              "       'total_rec_late_fee', 'recoveries', 'collection_recovery_fee',\n",
              "       'last_pymnt_d', 'last_pymnt_amnt', 'last_credit_pull_d',\n",
              "       'pub_rec_bankruptcies'],\n",
              "      dtype='object')"
            ]
          },
          "metadata": {},
          "execution_count": 303
        }
      ]
    },
    {
      "cell_type": "code",
      "source": [
        "customer_behavioral_col = ['delinq_2yrs', 'earliest_cr_line',\n",
        "       'inq_last_6mths', 'open_acc', 'pub_rec', 'revol_bal', 'revol_util',\n",
        "       'out_prncp', 'out_prncp_inv', 'total_pymnt',\n",
        "       'total_pymnt_inv', 'total_rec_prncp', 'total_rec_int',\n",
        "       'total_rec_late_fee', 'recoveries', 'collection_recovery_fee',\n",
        "       'last_pymnt_d', 'last_pymnt_amnt', 'last_credit_pull_d',\n",
        "       'pub_rec_bankruptcies'] "
      ],
      "metadata": {
        "id": "7nO8wEo3Ai9M"
      },
      "execution_count": 304,
      "outputs": []
    },
    {
      "cell_type": "code",
      "source": [
        "df.drop(customer_behavioral_col,axis=1,inplace=True)"
      ],
      "metadata": {
        "id": "ahUnMZt4B-cO"
      },
      "execution_count": 305,
      "outputs": []
    },
    {
      "cell_type": "code",
      "source": [
        "print(\"Number of features after filtering the data: \", df.shape[1])"
      ],
      "metadata": {
        "colab": {
          "base_uri": "https://localhost:8080/"
        },
        "id": "QoY6andKCLjO",
        "outputId": "07c4599e-1528-409f-c2a1-968ae8c32856"
      },
      "execution_count": 306,
      "outputs": [
        {
          "output_type": "stream",
          "name": "stdout",
          "text": [
            "Number of features after filtering the data:  24\n"
          ]
        }
      ]
    },
    {
      "cell_type": "markdown",
      "source": [
        "#**Univriate Analysis**"
      ],
      "metadata": {
        "id": "6dejb7k9Ckci"
      }
    },
    {
      "cell_type": "code",
      "source": [
        "df.describe(percentiles=[0.25,0.50,0.75,0.90,0.95])"
      ],
      "metadata": {
        "colab": {
          "base_uri": "https://localhost:8080/",
          "height": 363
        },
        "id": "o1MVDgCwdF8H",
        "outputId": "073781d1-e44c-427d-d60d-32c2a5312cda"
      },
      "execution_count": 307,
      "outputs": [
        {
          "output_type": "execute_result",
          "data": {
            "text/plain": [
              "                 id     member_id     loan_amnt   funded_amnt  \\\n",
              "count  3.971700e+04  3.971700e+04  39717.000000  39717.000000   \n",
              "mean   6.831319e+05  8.504636e+05  11219.443815  10947.713196   \n",
              "std    2.106941e+05  2.656783e+05   7456.670694   7187.238670   \n",
              "min    5.473400e+04  7.069900e+04    500.000000    500.000000   \n",
              "25%    5.162210e+05  6.667800e+05   5500.000000   5400.000000   \n",
              "50%    6.656650e+05  8.508120e+05  10000.000000   9600.000000   \n",
              "75%    8.377550e+05  1.047339e+06  15000.000000  15000.000000   \n",
              "90%    1.007009e+06  1.232878e+06  22000.000000  21000.000000   \n",
              "95%    1.039966e+06  1.269462e+06  25000.000000  25000.000000   \n",
              "max    1.077501e+06  1.314167e+06  35000.000000  35000.000000   \n",
              "\n",
              "       funded_amnt_inv          term      int_rate   installment  \\\n",
              "count     39717.000000  39717.000000  39717.000000  39717.000000   \n",
              "mean      10397.448868     42.418007     12.021177    324.561922   \n",
              "std        7128.450439     10.622815      3.724825    208.874874   \n",
              "min           0.000000     36.000000      5.420000     15.690000   \n",
              "25%        5000.000000     36.000000      9.250000    167.020000   \n",
              "50%        8975.000000     36.000000     11.860000    280.220000   \n",
              "75%       14400.000000     60.000000     14.590000    430.780000   \n",
              "90%       20000.000000     60.000000     16.890000    622.952000   \n",
              "95%       24736.572264     60.000000     18.540000    762.996000   \n",
              "max       35000.000000     60.000000     24.590000   1305.190000   \n",
              "\n",
              "         emp_length    annual_inc           dti     total_acc  \n",
              "count  39717.000000  3.971700e+04  39717.000000  39717.000000  \n",
              "mean       4.954226  6.896893e+04     13.315130     22.088828  \n",
              "std        3.461960  6.379377e+04      6.678594     11.401709  \n",
              "min        0.000000  4.000000e+03      0.000000      2.000000  \n",
              "25%        2.000000  4.040400e+04      8.170000     13.000000  \n",
              "50%        4.000000  5.900000e+04     13.400000     20.000000  \n",
              "75%        9.000000  8.230000e+04     18.600000     29.000000  \n",
              "90%       10.000000  1.160000e+05     22.330000     38.000000  \n",
              "95%       10.000000  1.420000e+05     23.840000     43.000000  \n",
              "max       10.000000  6.000000e+06     29.990000     90.000000  "
            ],
            "text/html": [
              "\n",
              "  <div id=\"df-d249d726-be87-457b-992e-4ab74863237d\">\n",
              "    <div class=\"colab-df-container\">\n",
              "      <div>\n",
              "<style scoped>\n",
              "    .dataframe tbody tr th:only-of-type {\n",
              "        vertical-align: middle;\n",
              "    }\n",
              "\n",
              "    .dataframe tbody tr th {\n",
              "        vertical-align: top;\n",
              "    }\n",
              "\n",
              "    .dataframe thead th {\n",
              "        text-align: right;\n",
              "    }\n",
              "</style>\n",
              "<table border=\"1\" class=\"dataframe\">\n",
              "  <thead>\n",
              "    <tr style=\"text-align: right;\">\n",
              "      <th></th>\n",
              "      <th>id</th>\n",
              "      <th>member_id</th>\n",
              "      <th>loan_amnt</th>\n",
              "      <th>funded_amnt</th>\n",
              "      <th>funded_amnt_inv</th>\n",
              "      <th>term</th>\n",
              "      <th>int_rate</th>\n",
              "      <th>installment</th>\n",
              "      <th>emp_length</th>\n",
              "      <th>annual_inc</th>\n",
              "      <th>dti</th>\n",
              "      <th>total_acc</th>\n",
              "    </tr>\n",
              "  </thead>\n",
              "  <tbody>\n",
              "    <tr>\n",
              "      <th>count</th>\n",
              "      <td>3.971700e+04</td>\n",
              "      <td>3.971700e+04</td>\n",
              "      <td>39717.000000</td>\n",
              "      <td>39717.000000</td>\n",
              "      <td>39717.000000</td>\n",
              "      <td>39717.000000</td>\n",
              "      <td>39717.000000</td>\n",
              "      <td>39717.000000</td>\n",
              "      <td>39717.000000</td>\n",
              "      <td>3.971700e+04</td>\n",
              "      <td>39717.000000</td>\n",
              "      <td>39717.000000</td>\n",
              "    </tr>\n",
              "    <tr>\n",
              "      <th>mean</th>\n",
              "      <td>6.831319e+05</td>\n",
              "      <td>8.504636e+05</td>\n",
              "      <td>11219.443815</td>\n",
              "      <td>10947.713196</td>\n",
              "      <td>10397.448868</td>\n",
              "      <td>42.418007</td>\n",
              "      <td>12.021177</td>\n",
              "      <td>324.561922</td>\n",
              "      <td>4.954226</td>\n",
              "      <td>6.896893e+04</td>\n",
              "      <td>13.315130</td>\n",
              "      <td>22.088828</td>\n",
              "    </tr>\n",
              "    <tr>\n",
              "      <th>std</th>\n",
              "      <td>2.106941e+05</td>\n",
              "      <td>2.656783e+05</td>\n",
              "      <td>7456.670694</td>\n",
              "      <td>7187.238670</td>\n",
              "      <td>7128.450439</td>\n",
              "      <td>10.622815</td>\n",
              "      <td>3.724825</td>\n",
              "      <td>208.874874</td>\n",
              "      <td>3.461960</td>\n",
              "      <td>6.379377e+04</td>\n",
              "      <td>6.678594</td>\n",
              "      <td>11.401709</td>\n",
              "    </tr>\n",
              "    <tr>\n",
              "      <th>min</th>\n",
              "      <td>5.473400e+04</td>\n",
              "      <td>7.069900e+04</td>\n",
              "      <td>500.000000</td>\n",
              "      <td>500.000000</td>\n",
              "      <td>0.000000</td>\n",
              "      <td>36.000000</td>\n",
              "      <td>5.420000</td>\n",
              "      <td>15.690000</td>\n",
              "      <td>0.000000</td>\n",
              "      <td>4.000000e+03</td>\n",
              "      <td>0.000000</td>\n",
              "      <td>2.000000</td>\n",
              "    </tr>\n",
              "    <tr>\n",
              "      <th>25%</th>\n",
              "      <td>5.162210e+05</td>\n",
              "      <td>6.667800e+05</td>\n",
              "      <td>5500.000000</td>\n",
              "      <td>5400.000000</td>\n",
              "      <td>5000.000000</td>\n",
              "      <td>36.000000</td>\n",
              "      <td>9.250000</td>\n",
              "      <td>167.020000</td>\n",
              "      <td>2.000000</td>\n",
              "      <td>4.040400e+04</td>\n",
              "      <td>8.170000</td>\n",
              "      <td>13.000000</td>\n",
              "    </tr>\n",
              "    <tr>\n",
              "      <th>50%</th>\n",
              "      <td>6.656650e+05</td>\n",
              "      <td>8.508120e+05</td>\n",
              "      <td>10000.000000</td>\n",
              "      <td>9600.000000</td>\n",
              "      <td>8975.000000</td>\n",
              "      <td>36.000000</td>\n",
              "      <td>11.860000</td>\n",
              "      <td>280.220000</td>\n",
              "      <td>4.000000</td>\n",
              "      <td>5.900000e+04</td>\n",
              "      <td>13.400000</td>\n",
              "      <td>20.000000</td>\n",
              "    </tr>\n",
              "    <tr>\n",
              "      <th>75%</th>\n",
              "      <td>8.377550e+05</td>\n",
              "      <td>1.047339e+06</td>\n",
              "      <td>15000.000000</td>\n",
              "      <td>15000.000000</td>\n",
              "      <td>14400.000000</td>\n",
              "      <td>60.000000</td>\n",
              "      <td>14.590000</td>\n",
              "      <td>430.780000</td>\n",
              "      <td>9.000000</td>\n",
              "      <td>8.230000e+04</td>\n",
              "      <td>18.600000</td>\n",
              "      <td>29.000000</td>\n",
              "    </tr>\n",
              "    <tr>\n",
              "      <th>90%</th>\n",
              "      <td>1.007009e+06</td>\n",
              "      <td>1.232878e+06</td>\n",
              "      <td>22000.000000</td>\n",
              "      <td>21000.000000</td>\n",
              "      <td>20000.000000</td>\n",
              "      <td>60.000000</td>\n",
              "      <td>16.890000</td>\n",
              "      <td>622.952000</td>\n",
              "      <td>10.000000</td>\n",
              "      <td>1.160000e+05</td>\n",
              "      <td>22.330000</td>\n",
              "      <td>38.000000</td>\n",
              "    </tr>\n",
              "    <tr>\n",
              "      <th>95%</th>\n",
              "      <td>1.039966e+06</td>\n",
              "      <td>1.269462e+06</td>\n",
              "      <td>25000.000000</td>\n",
              "      <td>25000.000000</td>\n",
              "      <td>24736.572264</td>\n",
              "      <td>60.000000</td>\n",
              "      <td>18.540000</td>\n",
              "      <td>762.996000</td>\n",
              "      <td>10.000000</td>\n",
              "      <td>1.420000e+05</td>\n",
              "      <td>23.840000</td>\n",
              "      <td>43.000000</td>\n",
              "    </tr>\n",
              "    <tr>\n",
              "      <th>max</th>\n",
              "      <td>1.077501e+06</td>\n",
              "      <td>1.314167e+06</td>\n",
              "      <td>35000.000000</td>\n",
              "      <td>35000.000000</td>\n",
              "      <td>35000.000000</td>\n",
              "      <td>60.000000</td>\n",
              "      <td>24.590000</td>\n",
              "      <td>1305.190000</td>\n",
              "      <td>10.000000</td>\n",
              "      <td>6.000000e+06</td>\n",
              "      <td>29.990000</td>\n",
              "      <td>90.000000</td>\n",
              "    </tr>\n",
              "  </tbody>\n",
              "</table>\n",
              "</div>\n",
              "      <button class=\"colab-df-convert\" onclick=\"convertToInteractive('df-d249d726-be87-457b-992e-4ab74863237d')\"\n",
              "              title=\"Convert this dataframe to an interactive table.\"\n",
              "              style=\"display:none;\">\n",
              "        \n",
              "  <svg xmlns=\"http://www.w3.org/2000/svg\" height=\"24px\"viewBox=\"0 0 24 24\"\n",
              "       width=\"24px\">\n",
              "    <path d=\"M0 0h24v24H0V0z\" fill=\"none\"/>\n",
              "    <path d=\"M18.56 5.44l.94 2.06.94-2.06 2.06-.94-2.06-.94-.94-2.06-.94 2.06-2.06.94zm-11 1L8.5 8.5l.94-2.06 2.06-.94-2.06-.94L8.5 2.5l-.94 2.06-2.06.94zm10 10l.94 2.06.94-2.06 2.06-.94-2.06-.94-.94-2.06-.94 2.06-2.06.94z\"/><path d=\"M17.41 7.96l-1.37-1.37c-.4-.4-.92-.59-1.43-.59-.52 0-1.04.2-1.43.59L10.3 9.45l-7.72 7.72c-.78.78-.78 2.05 0 2.83L4 21.41c.39.39.9.59 1.41.59.51 0 1.02-.2 1.41-.59l7.78-7.78 2.81-2.81c.8-.78.8-2.07 0-2.86zM5.41 20L4 18.59l7.72-7.72 1.47 1.35L5.41 20z\"/>\n",
              "  </svg>\n",
              "      </button>\n",
              "      \n",
              "  <style>\n",
              "    .colab-df-container {\n",
              "      display:flex;\n",
              "      flex-wrap:wrap;\n",
              "      gap: 12px;\n",
              "    }\n",
              "\n",
              "    .colab-df-convert {\n",
              "      background-color: #E8F0FE;\n",
              "      border: none;\n",
              "      border-radius: 50%;\n",
              "      cursor: pointer;\n",
              "      display: none;\n",
              "      fill: #1967D2;\n",
              "      height: 32px;\n",
              "      padding: 0 0 0 0;\n",
              "      width: 32px;\n",
              "    }\n",
              "\n",
              "    .colab-df-convert:hover {\n",
              "      background-color: #E2EBFA;\n",
              "      box-shadow: 0px 1px 2px rgba(60, 64, 67, 0.3), 0px 1px 3px 1px rgba(60, 64, 67, 0.15);\n",
              "      fill: #174EA6;\n",
              "    }\n",
              "\n",
              "    [theme=dark] .colab-df-convert {\n",
              "      background-color: #3B4455;\n",
              "      fill: #D2E3FC;\n",
              "    }\n",
              "\n",
              "    [theme=dark] .colab-df-convert:hover {\n",
              "      background-color: #434B5C;\n",
              "      box-shadow: 0px 1px 3px 1px rgba(0, 0, 0, 0.15);\n",
              "      filter: drop-shadow(0px 1px 2px rgba(0, 0, 0, 0.3));\n",
              "      fill: #FFFFFF;\n",
              "    }\n",
              "  </style>\n",
              "\n",
              "      <script>\n",
              "        const buttonEl =\n",
              "          document.querySelector('#df-d249d726-be87-457b-992e-4ab74863237d button.colab-df-convert');\n",
              "        buttonEl.style.display =\n",
              "          google.colab.kernel.accessAllowed ? 'block' : 'none';\n",
              "\n",
              "        async function convertToInteractive(key) {\n",
              "          const element = document.querySelector('#df-d249d726-be87-457b-992e-4ab74863237d');\n",
              "          const dataTable =\n",
              "            await google.colab.kernel.invokeFunction('convertToInteractive',\n",
              "                                                     [key], {});\n",
              "          if (!dataTable) return;\n",
              "\n",
              "          const docLinkHtml = 'Like what you see? Visit the ' +\n",
              "            '<a target=\"_blank\" href=https://colab.research.google.com/notebooks/data_table.ipynb>data table notebook</a>'\n",
              "            + ' to learn more about interactive tables.';\n",
              "          element.innerHTML = '';\n",
              "          dataTable['output_type'] = 'display_data';\n",
              "          await google.colab.output.renderOutput(dataTable, element);\n",
              "          const docLink = document.createElement('div');\n",
              "          docLink.innerHTML = docLinkHtml;\n",
              "          element.appendChild(docLink);\n",
              "        }\n",
              "      </script>\n",
              "    </div>\n",
              "  </div>\n",
              "  "
            ]
          },
          "metadata": {},
          "execution_count": 307
        }
      ]
    },
    {
      "cell_type": "markdown",
      "source": [
        "We see outliers in quite few columns such as annual_inc, outstanding principle, etc. "
      ],
      "metadata": {
        "id": "C7qgZyVSNuED"
      }
    },
    {
      "cell_type": "code",
      "source": [
        "import numpy as np\n",
        "df.describe(include=[np.object])"
      ],
      "metadata": {
        "id": "DlY807_SfKkD",
        "outputId": "1cf0ed27-1001-4de9-b1e3-f15eef869cf1",
        "colab": {
          "base_uri": "https://localhost:8080/",
          "height": 175
        }
      },
      "execution_count": 308,
      "outputs": [
        {
          "output_type": "execute_result",
          "data": {
            "text/plain": [
              "        grade sub_grade emp_title home_ownership verification_status  \\\n",
              "count   39717     39717     37258          39717               39717   \n",
              "unique      7        35     28820              5                   3   \n",
              "top         B        B3   US Army           RENT        Not Verified   \n",
              "freq    12020      2917       134          18899               16921   \n",
              "\n",
              "       loan_status   desc             purpose               title zip_code  \\\n",
              "count        39717  26777               39717               39706    39717   \n",
              "unique           3  26527                  14               19615      823   \n",
              "top     Fully Paid         debt_consolidation  Debt Consolidation    100xx   \n",
              "freq         32950    210               18641                2184      597   \n",
              "\n",
              "       addr_state  \n",
              "count       39717  \n",
              "unique         50  \n",
              "top            CA  \n",
              "freq         7099  "
            ],
            "text/html": [
              "\n",
              "  <div id=\"df-1bdb9d9f-6d2d-4303-8fe3-d3e702854cfb\">\n",
              "    <div class=\"colab-df-container\">\n",
              "      <div>\n",
              "<style scoped>\n",
              "    .dataframe tbody tr th:only-of-type {\n",
              "        vertical-align: middle;\n",
              "    }\n",
              "\n",
              "    .dataframe tbody tr th {\n",
              "        vertical-align: top;\n",
              "    }\n",
              "\n",
              "    .dataframe thead th {\n",
              "        text-align: right;\n",
              "    }\n",
              "</style>\n",
              "<table border=\"1\" class=\"dataframe\">\n",
              "  <thead>\n",
              "    <tr style=\"text-align: right;\">\n",
              "      <th></th>\n",
              "      <th>grade</th>\n",
              "      <th>sub_grade</th>\n",
              "      <th>emp_title</th>\n",
              "      <th>home_ownership</th>\n",
              "      <th>verification_status</th>\n",
              "      <th>loan_status</th>\n",
              "      <th>desc</th>\n",
              "      <th>purpose</th>\n",
              "      <th>title</th>\n",
              "      <th>zip_code</th>\n",
              "      <th>addr_state</th>\n",
              "    </tr>\n",
              "  </thead>\n",
              "  <tbody>\n",
              "    <tr>\n",
              "      <th>count</th>\n",
              "      <td>39717</td>\n",
              "      <td>39717</td>\n",
              "      <td>37258</td>\n",
              "      <td>39717</td>\n",
              "      <td>39717</td>\n",
              "      <td>39717</td>\n",
              "      <td>26777</td>\n",
              "      <td>39717</td>\n",
              "      <td>39706</td>\n",
              "      <td>39717</td>\n",
              "      <td>39717</td>\n",
              "    </tr>\n",
              "    <tr>\n",
              "      <th>unique</th>\n",
              "      <td>7</td>\n",
              "      <td>35</td>\n",
              "      <td>28820</td>\n",
              "      <td>5</td>\n",
              "      <td>3</td>\n",
              "      <td>3</td>\n",
              "      <td>26527</td>\n",
              "      <td>14</td>\n",
              "      <td>19615</td>\n",
              "      <td>823</td>\n",
              "      <td>50</td>\n",
              "    </tr>\n",
              "    <tr>\n",
              "      <th>top</th>\n",
              "      <td>B</td>\n",
              "      <td>B3</td>\n",
              "      <td>US Army</td>\n",
              "      <td>RENT</td>\n",
              "      <td>Not Verified</td>\n",
              "      <td>Fully Paid</td>\n",
              "      <td></td>\n",
              "      <td>debt_consolidation</td>\n",
              "      <td>Debt Consolidation</td>\n",
              "      <td>100xx</td>\n",
              "      <td>CA</td>\n",
              "    </tr>\n",
              "    <tr>\n",
              "      <th>freq</th>\n",
              "      <td>12020</td>\n",
              "      <td>2917</td>\n",
              "      <td>134</td>\n",
              "      <td>18899</td>\n",
              "      <td>16921</td>\n",
              "      <td>32950</td>\n",
              "      <td>210</td>\n",
              "      <td>18641</td>\n",
              "      <td>2184</td>\n",
              "      <td>597</td>\n",
              "      <td>7099</td>\n",
              "    </tr>\n",
              "  </tbody>\n",
              "</table>\n",
              "</div>\n",
              "      <button class=\"colab-df-convert\" onclick=\"convertToInteractive('df-1bdb9d9f-6d2d-4303-8fe3-d3e702854cfb')\"\n",
              "              title=\"Convert this dataframe to an interactive table.\"\n",
              "              style=\"display:none;\">\n",
              "        \n",
              "  <svg xmlns=\"http://www.w3.org/2000/svg\" height=\"24px\"viewBox=\"0 0 24 24\"\n",
              "       width=\"24px\">\n",
              "    <path d=\"M0 0h24v24H0V0z\" fill=\"none\"/>\n",
              "    <path d=\"M18.56 5.44l.94 2.06.94-2.06 2.06-.94-2.06-.94-.94-2.06-.94 2.06-2.06.94zm-11 1L8.5 8.5l.94-2.06 2.06-.94-2.06-.94L8.5 2.5l-.94 2.06-2.06.94zm10 10l.94 2.06.94-2.06 2.06-.94-2.06-.94-.94-2.06-.94 2.06-2.06.94z\"/><path d=\"M17.41 7.96l-1.37-1.37c-.4-.4-.92-.59-1.43-.59-.52 0-1.04.2-1.43.59L10.3 9.45l-7.72 7.72c-.78.78-.78 2.05 0 2.83L4 21.41c.39.39.9.59 1.41.59.51 0 1.02-.2 1.41-.59l7.78-7.78 2.81-2.81c.8-.78.8-2.07 0-2.86zM5.41 20L4 18.59l7.72-7.72 1.47 1.35L5.41 20z\"/>\n",
              "  </svg>\n",
              "      </button>\n",
              "      \n",
              "  <style>\n",
              "    .colab-df-container {\n",
              "      display:flex;\n",
              "      flex-wrap:wrap;\n",
              "      gap: 12px;\n",
              "    }\n",
              "\n",
              "    .colab-df-convert {\n",
              "      background-color: #E8F0FE;\n",
              "      border: none;\n",
              "      border-radius: 50%;\n",
              "      cursor: pointer;\n",
              "      display: none;\n",
              "      fill: #1967D2;\n",
              "      height: 32px;\n",
              "      padding: 0 0 0 0;\n",
              "      width: 32px;\n",
              "    }\n",
              "\n",
              "    .colab-df-convert:hover {\n",
              "      background-color: #E2EBFA;\n",
              "      box-shadow: 0px 1px 2px rgba(60, 64, 67, 0.3), 0px 1px 3px 1px rgba(60, 64, 67, 0.15);\n",
              "      fill: #174EA6;\n",
              "    }\n",
              "\n",
              "    [theme=dark] .colab-df-convert {\n",
              "      background-color: #3B4455;\n",
              "      fill: #D2E3FC;\n",
              "    }\n",
              "\n",
              "    [theme=dark] .colab-df-convert:hover {\n",
              "      background-color: #434B5C;\n",
              "      box-shadow: 0px 1px 3px 1px rgba(0, 0, 0, 0.15);\n",
              "      filter: drop-shadow(0px 1px 2px rgba(0, 0, 0, 0.3));\n",
              "      fill: #FFFFFF;\n",
              "    }\n",
              "  </style>\n",
              "\n",
              "      <script>\n",
              "        const buttonEl =\n",
              "          document.querySelector('#df-1bdb9d9f-6d2d-4303-8fe3-d3e702854cfb button.colab-df-convert');\n",
              "        buttonEl.style.display =\n",
              "          google.colab.kernel.accessAllowed ? 'block' : 'none';\n",
              "\n",
              "        async function convertToInteractive(key) {\n",
              "          const element = document.querySelector('#df-1bdb9d9f-6d2d-4303-8fe3-d3e702854cfb');\n",
              "          const dataTable =\n",
              "            await google.colab.kernel.invokeFunction('convertToInteractive',\n",
              "                                                     [key], {});\n",
              "          if (!dataTable) return;\n",
              "\n",
              "          const docLinkHtml = 'Like what you see? Visit the ' +\n",
              "            '<a target=\"_blank\" href=https://colab.research.google.com/notebooks/data_table.ipynb>data table notebook</a>'\n",
              "            + ' to learn more about interactive tables.';\n",
              "          element.innerHTML = '';\n",
              "          dataTable['output_type'] = 'display_data';\n",
              "          await google.colab.output.renderOutput(dataTable, element);\n",
              "          const docLink = document.createElement('div');\n",
              "          docLink.innerHTML = docLinkHtml;\n",
              "          element.appendChild(docLink);\n",
              "        }\n",
              "      </script>\n",
              "    </div>\n",
              "  </div>\n",
              "  "
            ]
          },
          "metadata": {},
          "execution_count": 308
        }
      ]
    },
    {
      "cell_type": "markdown",
      "source": [
        "Here, top shows the mode of the feature and freq gives frequency of the mode for that feature.\n",
        "\n",
        "Observations: \n",
        "1. most loans are taken by employees with 10+yrs exp.\n",
        "2. Most loans are fully-paid.\n",
        "3. Background verification of the applicants are not completed in majority of the cases. "
      ],
      "metadata": {
        "id": "5F79i_FcOHzH"
      }
    },
    {
      "cell_type": "code",
      "source": [
        "print(df['home_ownership'].value_counts(dropna=False,normalize=True),\"\\n\")\n",
        "df['home_ownership'].value_counts(dropna=False).plot(kind='bar')"
      ],
      "metadata": {
        "colab": {
          "base_uri": "https://localhost:8080/",
          "height": 451
        },
        "id": "tBhMSCHmZthY",
        "outputId": "eca741e5-03af-4985-cec3-81104d73b9c2"
      },
      "execution_count": 309,
      "outputs": [
        {
          "output_type": "stream",
          "name": "stdout",
          "text": [
            "RENT        0.475842\n",
            "MORTGAGE    0.444621\n",
            "OWN         0.076995\n",
            "OTHER       0.002467\n",
            "NONE        0.000076\n",
            "Name: home_ownership, dtype: float64 \n",
            "\n"
          ]
        },
        {
          "output_type": "execute_result",
          "data": {
            "text/plain": [
              "<matplotlib.axes._subplots.AxesSubplot at 0x7fad0718d6d0>"
            ]
          },
          "metadata": {},
          "execution_count": 309
        },
        {
          "output_type": "display_data",
          "data": {
            "text/plain": [
              "<Figure size 432x288 with 1 Axes>"
            ],
            "image/png": "[encoded data removed]"
          },
          "metadata": {
            "needs_background": "light"
          }
        }
      ]
    },
    {
      "cell_type": "markdown",
      "source": [
        "Majority of customers either Renting house or on mortage."
      ],
      "metadata": {
        "id": "MtxoAg0PICC8"
      }
    },
    {
      "cell_type": "code",
      "source": [
        "print(df['verification_status'].value_counts(dropna=False,normalize=True),\"\\n\")\n",
        "df['verification_status'].value_counts(dropna=False).plot(kind='bar')"
      ],
      "metadata": {
        "colab": {
          "base_uri": "https://localhost:8080/",
          "height": 435
        },
        "id": "2xZa4YwuaEJK",
        "outputId": "b4bc8665-54e9-4f6b-8b39-ec595ad7b65e"
      },
      "execution_count": 310,
      "outputs": [
        {
          "output_type": "stream",
          "name": "stdout",
          "text": [
            "Not Verified       0.426039\n",
            "Verified           0.322507\n",
            "Source Verified    0.251454\n",
            "Name: verification_status, dtype: float64 \n",
            "\n"
          ]
        },
        {
          "output_type": "execute_result",
          "data": {
            "text/plain": [
              "<matplotlib.axes._subplots.AxesSubplot at 0x7fad06353110>"
            ]
          },
          "metadata": {},
          "execution_count": 310
        },
        {
          "output_type": "display_data",
          "data": {
            "text/plain": [
              "<Figure size 432x288 with 1 Axes>"
            ],
            "image/png": "[encoded data removed]"
          },
          "metadata": {
            "needs_background": "light"
          }
        }
      ]
    },
    {
      "cell_type": "markdown",
      "source": [
        "Background check of around 42.6% of loan applicants' has not been done. "
      ],
      "metadata": {
        "id": "ngaFuYMXHrc5"
      }
    },
    {
      "cell_type": "code",
      "source": [
        "print(df['loan_status'].value_counts(dropna=False,normalize=True),\"\\n\")\n",
        "df['loan_status'].value_counts(dropna=False).plot(kind='bar')"
      ],
      "metadata": {
        "colab": {
          "base_uri": "https://localhost:8080/",
          "height": 420
        },
        "outputId": "0e056925-9bb4-4f08-fb3d-e69bc00f5b99",
        "id": "ec5DVh3daQWk"
      },
      "execution_count": 311,
      "outputs": [
        {
          "output_type": "stream",
          "name": "stdout",
          "text": [
            "Fully Paid     0.829620\n",
            "Charged Off    0.141677\n",
            "Current        0.028703\n",
            "Name: loan_status, dtype: float64 \n",
            "\n"
          ]
        },
        {
          "output_type": "execute_result",
          "data": {
            "text/plain": [
              "<matplotlib.axes._subplots.AxesSubplot at 0x7fad03d9c350>"
            ]
          },
          "metadata": {},
          "execution_count": 311
        },
        {
          "output_type": "display_data",
          "data": {
            "text/plain": [
              "<Figure size 432x288 with 1 Axes>"
            ],
            "image/png": "[encoded data removed]"
          },
          "metadata": {
            "needs_background": "light"
          }
        }
      ]
    },
    {
      "cell_type": "markdown",
      "source": [
        "Around 82.96% of loans have been fully paid. 14.17% has been defaulted. And 2.8% loans are ongoing."
      ],
      "metadata": {
        "id": "UUZQKdsNH_41"
      }
    },
    {
      "cell_type": "code",
      "source": [
        "print(df['purpose'].value_counts(dropna=False,normalize=True),\"\\n\")\n",
        "df['purpose'].value_counts(dropna=False).plot(kind='bar')"
      ],
      "metadata": {
        "colab": {
          "base_uri": "https://localhost:8080/",
          "height": 650
        },
        "id": "Hx26vxcvH41q",
        "outputId": "ae4e1e3e-d04c-42da-da26-da02305e5d55"
      },
      "execution_count": 313,
      "outputs": [
        {
          "output_type": "stream",
          "name": "stdout",
          "text": [
            "debt_consolidation    0.469346\n",
            "credit_card           0.129164\n",
            "other                 0.100536\n",
            "home_improvement      0.074930\n",
            "major_purchase        0.055065\n",
            "small_business        0.046026\n",
            "car                   0.039001\n",
            "wedding               0.023844\n",
            "medical               0.017448\n",
            "moving                0.014679\n",
            "vacation              0.009593\n",
            "house                 0.009593\n",
            "educational           0.008183\n",
            "renewable_energy      0.002593\n",
            "Name: purpose, dtype: float64 \n",
            "\n"
          ]
        },
        {
          "output_type": "execute_result",
          "data": {
            "text/plain": [
              "<matplotlib.axes._subplots.AxesSubplot at 0x7fad03163e50>"
            ]
          },
          "metadata": {},
          "execution_count": 313
        },
        {
          "output_type": "display_data",
          "data": {
            "text/plain": [
              "<Figure size 432x288 with 1 Axes>"
            ],
            "image/png": "[encoded data removed]"
          },
          "metadata": {
            "needs_background": "light"
          }
        }
      ]
    },
    {
      "cell_type": "markdown",
      "source": [
        "Around 46% of customers are applying for loan for debt_consolidation."
      ],
      "metadata": {
        "id": "GNG3ARm2Gyt2"
      }
    }
  ]
}